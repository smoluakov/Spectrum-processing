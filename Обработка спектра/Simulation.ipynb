{
 "cells": [
  {
   "cell_type": "code",
   "execution_count": 1,
   "id": "3cac2dbf-ccd5-44ce-b6fc-bb9d32184cff",
   "metadata": {},
   "outputs": [
    {
     "name": "stdout",
     "output_type": "stream",
     "text": [
      "Collecting eprsim\n",
      "  Downloading EPRsim-0.0.4.dev0-py3-none-any.whl (75 kB)\n",
      "Requirement already satisfied: scipy>=1.2.0 in c:\\users\\smolyakov\\anaconda3\\lib\\site-packages (from eprsim) (1.6.2)\n",
      "Collecting sphinx-rtd-theme>=0.4.3\n",
      "  Downloading sphinx_rtd_theme-1.0.0-py2.py3-none-any.whl (2.8 MB)\n",
      "Requirement already satisfied: numpy>=1.15.4 in c:\\users\\smolyakov\\anaconda3\\lib\\site-packages (from eprsim) (1.20.1)\n",
      "Requirement already satisfied: pyparsing>=2.3.0 in c:\\users\\smolyakov\\anaconda3\\lib\\site-packages (from eprsim) (2.4.7)\n",
      "Requirement already satisfied: llvmlite>=0.26.0 in c:\\users\\smolyakov\\anaconda3\\lib\\site-packages (from eprsim) (0.36.0)\n",
      "Requirement already satisfied: numpydoc>=0.9.1 in c:\\users\\smolyakov\\anaconda3\\lib\\site-packages (from eprsim) (1.1.0)\n",
      "Requirement already satisfied: cycler>=0.10.0 in c:\\users\\smolyakov\\anaconda3\\lib\\site-packages (from eprsim) (0.10.0)\n",
      "Requirement already satisfied: numba>=0.41.0 in c:\\users\\smolyakov\\anaconda3\\lib\\site-packages (from eprsim) (0.53.1)\n",
      "Requirement already satisfied: python-dateutil in c:\\users\\smolyakov\\anaconda3\\lib\\site-packages (from eprsim) (2.8.1)\n",
      "Requirement already satisfied: six>=1.11.0 in c:\\users\\smolyakov\\anaconda3\\lib\\site-packages (from eprsim) (1.15.0)\n",
      "Requirement already satisfied: matplotlib in c:\\users\\smolyakov\\anaconda3\\lib\\site-packages (from eprsim) (3.3.4)\n",
      "Requirement already satisfied: kiwisolver>=1.0.1 in c:\\users\\smolyakov\\anaconda3\\lib\\site-packages (from eprsim) (1.3.1)\n",
      "Requirement already satisfied: setuptools in c:\\users\\smolyakov\\anaconda3\\lib\\site-packages (from numba>=0.41.0->eprsim) (52.0.0.post20210125)\n",
      "Requirement already satisfied: Jinja2>=2.3 in c:\\users\\smolyakov\\anaconda3\\lib\\site-packages (from numpydoc>=0.9.1->eprsim) (2.11.3)\n",
      "Requirement already satisfied: sphinx>=1.6.5 in c:\\users\\smolyakov\\anaconda3\\lib\\site-packages (from numpydoc>=0.9.1->eprsim) (4.0.1)\n",
      "Requirement already satisfied: MarkupSafe>=0.23 in c:\\users\\smolyakov\\anaconda3\\lib\\site-packages (from Jinja2>=2.3->numpydoc>=0.9.1->eprsim) (1.1.1)\n",
      "Requirement already satisfied: sphinxcontrib-jsmath in c:\\users\\smolyakov\\anaconda3\\lib\\site-packages (from sphinx>=1.6.5->numpydoc>=0.9.1->eprsim) (1.0.1)\n",
      "Requirement already satisfied: sphinxcontrib-htmlhelp in c:\\users\\smolyakov\\anaconda3\\lib\\site-packages (from sphinx>=1.6.5->numpydoc>=0.9.1->eprsim) (1.0.3)\n",
      "Requirement already satisfied: Pygments>=2.0 in c:\\users\\smolyakov\\anaconda3\\lib\\site-packages (from sphinx>=1.6.5->numpydoc>=0.9.1->eprsim) (2.8.1)\n",
      "Requirement already satisfied: snowballstemmer>=1.1 in c:\\users\\smolyakov\\anaconda3\\lib\\site-packages (from sphinx>=1.6.5->numpydoc>=0.9.1->eprsim) (2.1.0)\n",
      "Requirement already satisfied: sphinxcontrib-serializinghtml in c:\\users\\smolyakov\\anaconda3\\lib\\site-packages (from sphinx>=1.6.5->numpydoc>=0.9.1->eprsim) (1.1.4)\n",
      "Requirement already satisfied: alabaster<0.8,>=0.7 in c:\\users\\smolyakov\\anaconda3\\lib\\site-packages (from sphinx>=1.6.5->numpydoc>=0.9.1->eprsim) (0.7.12)\n",
      "Requirement already satisfied: sphinxcontrib-applehelp in c:\\users\\smolyakov\\anaconda3\\lib\\site-packages (from sphinx>=1.6.5->numpydoc>=0.9.1->eprsim) (1.0.2)\n",
      "Requirement already satisfied: sphinxcontrib-qthelp in c:\\users\\smolyakov\\anaconda3\\lib\\site-packages (from sphinx>=1.6.5->numpydoc>=0.9.1->eprsim) (1.0.3)\n",
      "Requirement already satisfied: babel>=1.3 in c:\\users\\smolyakov\\anaconda3\\lib\\site-packages (from sphinx>=1.6.5->numpydoc>=0.9.1->eprsim) (2.9.0)\n",
      "Requirement already satisfied: docutils<0.18,>=0.14 in c:\\users\\smolyakov\\anaconda3\\lib\\site-packages (from sphinx>=1.6.5->numpydoc>=0.9.1->eprsim) (0.17)\n",
      "Requirement already satisfied: requests>=2.5.0 in c:\\users\\smolyakov\\anaconda3\\lib\\site-packages (from sphinx>=1.6.5->numpydoc>=0.9.1->eprsim) (2.25.1)\n",
      "Requirement already satisfied: packaging in c:\\users\\smolyakov\\anaconda3\\lib\\site-packages (from sphinx>=1.6.5->numpydoc>=0.9.1->eprsim) (20.9)\n",
      "Requirement already satisfied: colorama>=0.3.5 in c:\\users\\smolyakov\\anaconda3\\lib\\site-packages (from sphinx>=1.6.5->numpydoc>=0.9.1->eprsim) (0.4.4)\n",
      "Requirement already satisfied: sphinxcontrib-devhelp in c:\\users\\smolyakov\\anaconda3\\lib\\site-packages (from sphinx>=1.6.5->numpydoc>=0.9.1->eprsim) (1.0.2)\n",
      "Requirement already satisfied: imagesize in c:\\users\\smolyakov\\anaconda3\\lib\\site-packages (from sphinx>=1.6.5->numpydoc>=0.9.1->eprsim) (1.2.0)\n",
      "Requirement already satisfied: pytz>=2015.7 in c:\\users\\smolyakov\\anaconda3\\lib\\site-packages (from babel>=1.3->sphinx>=1.6.5->numpydoc>=0.9.1->eprsim) (2021.1)\n",
      "Requirement already satisfied: chardet<5,>=3.0.2 in c:\\users\\smolyakov\\anaconda3\\lib\\site-packages (from requests>=2.5.0->sphinx>=1.6.5->numpydoc>=0.9.1->eprsim) (4.0.0)\n",
      "Requirement already satisfied: urllib3<1.27,>=1.21.1 in c:\\users\\smolyakov\\anaconda3\\lib\\site-packages (from requests>=2.5.0->sphinx>=1.6.5->numpydoc>=0.9.1->eprsim) (1.26.4)\n",
      "Requirement already satisfied: certifi>=2017.4.17 in c:\\users\\smolyakov\\anaconda3\\lib\\site-packages (from requests>=2.5.0->sphinx>=1.6.5->numpydoc>=0.9.1->eprsim) (2020.12.5)\n",
      "Requirement already satisfied: idna<3,>=2.5 in c:\\users\\smolyakov\\anaconda3\\lib\\site-packages (from requests>=2.5.0->sphinx>=1.6.5->numpydoc>=0.9.1->eprsim) (2.10)\n",
      "Requirement already satisfied: pillow>=6.2.0 in c:\\users\\smolyakov\\anaconda3\\lib\\site-packages (from matplotlib->eprsim) (8.2.0)\n",
      "Installing collected packages: sphinx-rtd-theme, eprsim\n",
      "Successfully installed eprsim-0.0.4.dev0 sphinx-rtd-theme-1.0.0\n"
     ]
    }
   ],
   "source": [
    " !pip install eprsim"
   ]
  },
  {
   "cell_type": "code",
   "execution_count": 2,
   "id": "ef5508a4-ff19-4e94-a988-443885d84703",
   "metadata": {},
   "outputs": [
    {
     "name": "stdout",
     "output_type": "stream",
     "text": [
      "\n",
      "*******************************************\n",
      "************RUN FAST MOTION*************\n",
      "*******************************************\n",
      "\n",
      "Isotropic calculation\n",
      "Nuclear spins : 14N\n",
      "Number of equivalent nuclei: [1.]\n",
      "\n",
      "*******************************************\n",
      "************RUN FAST MOTION*************\n",
      "*******************************************\n",
      "\n",
      "Isotropic calculation\n",
      "Nuclear spins : 15N\n",
      "Number of equivalent nuclei: [1.]\n",
      "\n",
      "Total time: 0.009013 s\n",
      "\n"
     ]
    }
   ],
   "source": [
    "import EPRsim.EPRsim as sim\n",
    "P = sim.Parameters()\n",
    "P.Range = [335 ,350]\n",
    "P.mwFreq = 9.6\n",
    "P.g = 2.002\n",
    "P.A = 45.5\n",
    "P.Nucs = 'N'\n",
    "P.lw = [0.2, 0.2]\n",
    "P.motion = 'fast'\n",
    "B0, spc, flag = sim.simulate(P)"
   ]
  },
  {
   "cell_type": "code",
   "execution_count": 3,
   "id": "781b7560-6f2b-4f2b-a4ca-0f4635c5ded4",
   "metadata": {},
   "outputs": [
    {
     "name": "stdout",
     "output_type": "stream",
     "text": [
      "\n",
      "*******************************************\n",
      "*************RUN SOLID STATE*************\n",
      "*******************************************\n",
      "\n",
      "Hamiltonian point group: D2h\n",
      "Octants for powder average: 1\n",
      "Interpolated theta/phi: 70/15\n",
      "Hilbert space dimension: 12\n",
      "Electron spin dimension: 2\n",
      "Nuclear spin dimension: 6\n",
      "Possible transitions: 66\n",
      "\"Allowed\" EPR transitions: 6\n",
      "Treated transitions: 6\n",
      "\n",
      "*******************************************\n",
      "*************RUN SOLID STATE*************\n",
      "*******************************************\n",
      "\n",
      "Hamiltonian point group: D2h\n",
      "Octants for powder average: 1\n",
      "Interpolated theta/phi: 68/15\n",
      "Hilbert space dimension: 18\n",
      "Electron spin dimension: 2\n",
      "Nuclear spin dimension: 9\n",
      "Possible transitions: 153\n",
      "\"Allowed\" EPR transitions: 9\n",
      "Treated transitions: 9\n",
      "\n",
      "Total time: 0.417612 s\n",
      "\n"
     ]
    },
    {
     "data": {
      "image/png": "[encoded data removed]",
      "text/plain": [
       "<Figure size 432x288 with 1 Axes>"
      ]
     },
     "metadata": {
      "needs_background": "light"
     },
     "output_type": "display_data"
    }
   ],
   "source": [
    "import EPRsim.EPRsim as sim\n",
    "import EPRsim.Tools as tool\n",
    "P = sim.Parameters()\n",
    "P.Range = [335 ,350]\n",
    "P.mwfreq = 9.6\n",
    "P.g = [2.0083, 2.0061, 2.0022]\n",
    "P.A = [[12, 13, 110], [20, 30, 30]]\n",
    "P.Nucs = '14N,H'\n",
    "P.lw = [0.5, 0.2]\n",
    "P.motion = 'solid'\n",
    "B0, spc, flag = sim.simulate(P)\n",
    "tool.plot(B0, spc)"
   ]
  },
  {
   "cell_type": "code",
   "execution_count": null,
   "id": "62f5347b-8b51-4a08-86aa-f70847dde3a8",
   "metadata": {},
   "outputs": [],
   "source": []
  }
 ],
 "metadata": {
  "kernelspec": {
   "display_name": "Python 3",
   "language": "python",
   "name": "python3"
  },
  "language_info": {
   "codemirror_mode": {
    "name": "ipython",
    "version": 3
   },
   "file_extension": ".py",
   "mimetype": "text/x-python",
   "name": "python",
   "nbconvert_exporter": "python",
   "pygments_lexer": "ipython3",
   "version": "3.8.8"
  }
 },
 "nbformat": 4,
 "nbformat_minor": 5
}
