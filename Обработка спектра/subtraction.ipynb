{
 "cells": [
  {
   "cell_type": "markdown",
   "id": "43fdb311-b2bc-4c9e-bd43-5d967d1acbe5",
   "metadata": {},
   "source": [
    "Необходимо реализовать алгоритм с вычитанием крайних точек, для того, чтобы получить щ"
   ]
  },
  {
   "cell_type": "code",
   "execution_count": 1,
   "id": "df0d53bc-7e36-48f2-8c3d-151d35089b2b",
   "metadata": {},
   "outputs": [],
   "source": [
    "import pandas as pd\n",
    "import numpy as np\n",
    "import matplotlib.pyplot as plt\n"
   ]
  },
  {
   "cell_type": "code",
   "execution_count": 2,
   "id": "2ca00257-c64d-4b09-8dff-89d8456bdd08",
   "metadata": {},
   "outputs": [],
   "source": [
    "points = list(range(1,15))\n",
    "names = list(map(lambda x: 'point_{}'.format(x), points))\n",
    "data = pd.read_excel('substraction.xlsx', header=None, names = names)"
   ]
  },
  {
   "cell_type": "code",
   "execution_count": 76,
   "id": "aa0e6802-9cc8-48e7-98eb-7ad851d6b070",
   "metadata": {},
   "outputs": [
    {
     "data": {
      "text/html": [
       "<div>\n",
       "<style scoped>\n",
       "    .dataframe tbody tr th:only-of-type {\n",
       "        vertical-align: middle;\n",
       "    }\n",
       "\n",
       "    .dataframe tbody tr th {\n",
       "        vertical-align: top;\n",
       "    }\n",
       "\n",
       "    .dataframe thead th {\n",
       "        text-align: right;\n",
       "    }\n",
       "</style>\n",
       "<table border=\"1\" class=\"dataframe\">\n",
       "  <thead>\n",
       "    <tr style=\"text-align: right;\">\n",
       "      <th></th>\n",
       "      <th>point_1</th>\n",
       "      <th>point_2</th>\n",
       "      <th>point_3</th>\n",
       "      <th>point_4</th>\n",
       "      <th>point_5</th>\n",
       "      <th>point_6</th>\n",
       "      <th>point_7</th>\n",
       "      <th>point_8</th>\n",
       "      <th>point_9</th>\n",
       "      <th>point_10</th>\n",
       "      <th>point_11</th>\n",
       "      <th>point_12</th>\n",
       "      <th>point_13</th>\n",
       "      <th>point_14</th>\n",
       "    </tr>\n",
       "  </thead>\n",
       "  <tbody>\n",
       "    <tr>\n",
       "      <th>0</th>\n",
       "      <td>182</td>\n",
       "      <td>184</td>\n",
       "      <td>197</td>\n",
       "      <td>224</td>\n",
       "      <td>208</td>\n",
       "      <td>184</td>\n",
       "      <td>136</td>\n",
       "      <td>82</td>\n",
       "      <td>116</td>\n",
       "      <td>117</td>\n",
       "      <td>130</td>\n",
       "      <td>181</td>\n",
       "      <td>142</td>\n",
       "      <td>158</td>\n",
       "    </tr>\n",
       "    <tr>\n",
       "      <th>1</th>\n",
       "      <td>169</td>\n",
       "      <td>189</td>\n",
       "      <td>208</td>\n",
       "      <td>238</td>\n",
       "      <td>199</td>\n",
       "      <td>172</td>\n",
       "      <td>141</td>\n",
       "      <td>110</td>\n",
       "      <td>72</td>\n",
       "      <td>101</td>\n",
       "      <td>138</td>\n",
       "      <td>164</td>\n",
       "      <td>131</td>\n",
       "      <td>163</td>\n",
       "    </tr>\n",
       "    <tr>\n",
       "      <th>2</th>\n",
       "      <td>165</td>\n",
       "      <td>157</td>\n",
       "      <td>214</td>\n",
       "      <td>231</td>\n",
       "      <td>212</td>\n",
       "      <td>176</td>\n",
       "      <td>165</td>\n",
       "      <td>121</td>\n",
       "      <td>90</td>\n",
       "      <td>102</td>\n",
       "      <td>124</td>\n",
       "      <td>173</td>\n",
       "      <td>141</td>\n",
       "      <td>168</td>\n",
       "    </tr>\n",
       "    <tr>\n",
       "      <th>3</th>\n",
       "      <td>190</td>\n",
       "      <td>164</td>\n",
       "      <td>197</td>\n",
       "      <td>218</td>\n",
       "      <td>193</td>\n",
       "      <td>166</td>\n",
       "      <td>132</td>\n",
       "      <td>104</td>\n",
       "      <td>110</td>\n",
       "      <td>97</td>\n",
       "      <td>148</td>\n",
       "      <td>173</td>\n",
       "      <td>149</td>\n",
       "      <td>166</td>\n",
       "    </tr>\n",
       "    <tr>\n",
       "      <th>4</th>\n",
       "      <td>160</td>\n",
       "      <td>169</td>\n",
       "      <td>193</td>\n",
       "      <td>222</td>\n",
       "      <td>221</td>\n",
       "      <td>173</td>\n",
       "      <td>138</td>\n",
       "      <td>132</td>\n",
       "      <td>116</td>\n",
       "      <td>112</td>\n",
       "      <td>119</td>\n",
       "      <td>153</td>\n",
       "      <td>155</td>\n",
       "      <td>157</td>\n",
       "    </tr>\n",
       "  </tbody>\n",
       "</table>\n",
       "</div>"
      ],
      "text/plain": [
       "   point_1  point_2  point_3  point_4  point_5  point_6  point_7  point_8  \\\n",
       "0      182      184      197      224      208      184      136       82   \n",
       "1      169      189      208      238      199      172      141      110   \n",
       "2      165      157      214      231      212      176      165      121   \n",
       "3      190      164      197      218      193      166      132      104   \n",
       "4      160      169      193      222      221      173      138      132   \n",
       "\n",
       "   point_9  point_10  point_11  point_12  point_13  point_14  \n",
       "0      116       117       130       181       142       158  \n",
       "1       72       101       138       164       131       163  \n",
       "2       90       102       124       173       141       168  \n",
       "3      110        97       148       173       149       166  \n",
       "4      116       112       119       153       155       157  "
      ]
     },
     "execution_count": 76,
     "metadata": {},
     "output_type": "execute_result"
    }
   ],
   "source": [
    "data.head()"
   ]
  },
  {
   "cell_type": "code",
   "execution_count": 77,
   "id": "0010242c-4584-469c-9c11-48953e56e02a",
   "metadata": {},
   "outputs": [],
   "source": [
    "data_arr = data.to_numpy()"
   ]
  },
  {
   "cell_type": "code",
   "execution_count": 78,
   "id": "94f86ad4-55cf-4a28-8424-2fba4eccb21a",
   "metadata": {},
   "outputs": [
    {
     "data": {
      "text/plain": [
       "array([[182, 184, 197, ..., 181, 142, 158],\n",
       "       [169, 189, 208, ..., 164, 131, 163],\n",
       "       [165, 157, 214, ..., 173, 141, 168],\n",
       "       ...,\n",
       "       [167, 195, 192, ..., 179, 127, 180],\n",
       "       [172, 171, 190, ..., 157, 127, 155],\n",
       "       [172, 185, 197, ..., 182, 150, 150]], dtype=int64)"
      ]
     },
     "execution_count": 78,
     "metadata": {},
     "output_type": "execute_result"
    }
   ],
   "source": [
    "data_arr"
   ]
  },
  {
   "cell_type": "markdown",
   "id": "9e93972d-2e3a-4527-89a2-81e4962ed77c",
   "metadata": {},
   "source": [
    "# Вычитание соседних точек"
   ]
  },
  {
   "cell_type": "code",
   "execution_count": 5,
   "id": "78be3002-9e78-4e2c-a2d4-27d08025ca7d",
   "metadata": {},
   "outputs": [
    {
     "data": {
      "text/plain": [
       "[6, 5, 14, 4, 1, 2, -4, -9, -8, -7, -5, -10, 6]"
      ]
     },
     "execution_count": 5,
     "metadata": {},
     "output_type": "execute_result"
    }
   ],
   "source": [
    "[data_arr[0][i] - data_arr[0][i+1] for i in range(len(data_arr[0])-1)]"
   ]
  },
  {
   "cell_type": "code",
   "execution_count": 6,
   "id": "d8113911-9b3b-4bbb-b5a2-9c3e43073fd8",
   "metadata": {},
   "outputs": [],
   "source": [
    "new_arr = []\n",
    "for j in range(100):\n",
    "    new_arr.append([data_arr[j][i] - data_arr[j][i+1] for i in range(len(data_arr[0])-1)])\n",
    "    "
   ]
  },
  {
   "cell_type": "code",
   "execution_count": 7,
   "id": "68a4ffc9-ad24-4532-b59f-e1d4193afd29",
   "metadata": {},
   "outputs": [],
   "source": [
    "arr = np.array(new_arr)"
   ]
  },
  {
   "cell_type": "code",
   "execution_count": 10,
   "id": "ac93ddf5-824e-464a-b05d-ddf011fce475",
   "metadata": {},
   "outputs": [
    {
     "name": "stdin",
     "output_type": "stream",
     "text": [
      "Введи стартовую точку среза матрицы 7\n",
      "Введите размерность ядра. Ядро должно быть квадратной матрицей, поэтому укажите только число 7\n"
     ]
    },
    {
     "data": {
      "text/plain": [
       "[<matplotlib.lines.Line2D at 0x22847180640>]"
      ]
     },
     "execution_count": 10,
     "metadata": {},
     "output_type": "execute_result"
    },
    {
     "data": {
      "image/png": "[encoded data removed]",
      "text/plain": [
       "<Figure size 1440x720 with 1 Axes>"
      ]
     },
     "metadata": {
      "needs_background": "light"
     },
     "output_type": "display_data"
    }
   ],
   "source": [
    "a = int(input(\"Введи стартовую точку среза матрицы\"))\n",
    "\n",
    "b = int(input(\"Введите размерность ядра. Ядро должно быть квадратной матрицей, поэтому укажите только число\"))\n",
    "\n",
    "#arr = data.to_numpy()\n",
    "\n",
    "dots = []\n",
    "\n",
    "\n",
    "for i in range(100):   \n",
    "    kernel = arr[i:b+i,a-1:(a-1)+b]\n",
    "    b_f = np.asarray(kernel)\n",
    "    b_f = np.fliplr(b_f)\n",
    "    #print('Antidiagonal first (sum): ', np.trace(b_f))\n",
    "    #print('Antidiagonal (elements): ', np.diagonal(b_f))\n",
    "    \n",
    "    dots.append((np.trace(b_f)) / b)\n",
    "    \n",
    "len(dots)\n",
    "plt.figure(figsize=(20,10))\n",
    "plt.plot(range(len(dots)), dots)"
   ]
  },
  {
   "cell_type": "code",
   "execution_count": 17,
   "id": "6c9ccb7e-64e1-424e-bf20-a1f7df547ad0",
   "metadata": {},
   "outputs": [
    {
     "data": {
      "text/plain": [
       "100"
      ]
     },
     "execution_count": 17,
     "metadata": {},
     "output_type": "execute_result"
    }
   ],
   "source": [
    "len(dots)"
   ]
  },
  {
   "cell_type": "markdown",
   "id": "09938da4-bad7-46d8-9df8-477a89ad3bc0",
   "metadata": {},
   "source": [
    "# Вычитание через одну точку"
   ]
  },
  {
   "cell_type": "code",
   "execution_count": 11,
   "id": "3e57fa61-9508-482c-beeb-d205caedd64e",
   "metadata": {},
   "outputs": [],
   "source": [
    "y = []\n",
    "for i in range(100):\n",
    "    y.append(arr[i][::2])"
   ]
  },
  {
   "cell_type": "code",
   "execution_count": 12,
   "id": "fdec6232-1723-444b-9394-1a7e94528571",
   "metadata": {},
   "outputs": [],
   "source": [
    "y = np.array(y)"
   ]
  },
  {
   "cell_type": "code",
   "execution_count": 14,
   "id": "1a241ff9-011b-4247-91a2-51a162a5c71a",
   "metadata": {},
   "outputs": [
    {
     "name": "stdin",
     "output_type": "stream",
     "text": [
      "Введи стартовую точку среза матрицы 7\n",
      "Введите размерность ядра. Ядро должно быть квадратной матрицей, поэтому укажите только число 7\n"
     ]
    },
    {
     "data": {
      "text/plain": [
       "[<matplotlib.lines.Line2D at 0x2284723c040>]"
      ]
     },
     "execution_count": 14,
     "metadata": {},
     "output_type": "execute_result"
    },
    {
     "data": {
      "image/png": "[encoded data removed]",
      "text/plain": [
       "<Figure size 1440x720 with 1 Axes>"
      ]
     },
     "metadata": {
      "needs_background": "light"
     },
     "output_type": "display_data"
    }
   ],
   "source": [
    "a = int(input(\"Введи стартовую точку среза матрицы\"))\n",
    "\n",
    "b = int(input(\"Введите размерность ядра. Ядро должно быть квадратной матрицей, поэтому укажите только число\"))\n",
    "\n",
    "#arr = data.to_numpy()\n",
    "\n",
    "dots_y = []\n",
    "\n",
    "\n",
    "for i in range(100):   \n",
    "    kernel = y[i:b+i,a-1:(a-1)+b]\n",
    "    b_f = np.asarray(kernel)\n",
    "    b_f = np.fliplr(b_f)\n",
    "    #print('Antidiagonal first (sum): ', np.trace(b_f))\n",
    "    #print('Antidiagonal (elements): ', np.diagonal(b_f))\n",
    "    \n",
    "    dots_y.append((np.trace(b_f)) / b)\n",
    "    \n",
    "len(dots)\n",
    "plt.figure(figsize=(20,10))\n",
    "plt.plot(range(len(dots_y)), dots_y)"
   ]
  },
  {
   "cell_type": "code",
   "execution_count": 92,
   "id": "3afabeeb-b2a3-4c3e-a993-f0517c8756c6",
   "metadata": {},
   "outputs": [
    {
     "data": {
      "text/plain": [
       "array([[  62,   56,   51, ...,   63,   73,   67],\n",
       "       [1919, 1865, 1572, ..., 1621, 2001, 2063],\n",
       "       [1908, 1864, 1595, ..., 1577, 1986, 2045],\n",
       "       ...,\n",
       "       [1833, 1791, 1522, ..., 1598, 1961, 2005],\n",
       "       [1836, 1788, 1556, ..., 1591, 1941, 1968],\n",
       "       [1836, 1788, 1514, ..., 1636, 1978, 2011]], dtype=int64)"
      ]
     },
     "execution_count": 92,
     "metadata": {},
     "output_type": "execute_result"
    }
   ],
   "source": [
    "data_arr"
   ]
  },
  {
   "cell_type": "code",
   "execution_count": 15,
   "id": "cc06685a-7cc6-4b5c-b065-7cb7134bdf97",
   "metadata": {},
   "outputs": [
    {
     "name": "stdin",
     "output_type": "stream",
     "text": [
      "Введи стартовую точку среза матрицы 2\n",
      "Введите размерность ядра. Ядро должно быть квадратной матрицей, поэтому укажите только число 3\n"
     ]
    },
    {
     "data": {
      "text/plain": [
       "[<matplotlib.lines.Line2D at 0x22847293760>]"
      ]
     },
     "execution_count": 15,
     "metadata": {},
     "output_type": "execute_result"
    },
    {
     "data": {
      "image/png": "[encoded data removed]",
      "text/plain": [
       "<Figure size 1440x720 with 1 Axes>"
      ]
     },
     "metadata": {
      "needs_background": "light"
     },
     "output_type": "display_data"
    }
   ],
   "source": [
    "a = int(input(\"Введи стартовую точку среза матрицы\"))\n",
    "\n",
    "b = int(input(\"Введите размерность ядра. Ядро должно быть квадратной матрицей, поэтому укажите только число\"))\n",
    "\n",
    "#arr = data.to_numpy()\n",
    "\n",
    "dots_orig = []\n",
    "\n",
    "for i in range(100):   \n",
    "    kernel = data_arr[i:b+i,a-1:(a-1)+b]\n",
    "    b_f = np.asarray(kernel)\n",
    "    b_f = np.fliplr(b_f)\n",
    "\n",
    "    \n",
    "    dots_orig.append((np.trace(b_f)) / b)\n",
    "    \n",
    "len(dots)\n",
    "plt.figure(figsize=(20,10))\n",
    "plt.plot(range(len(dots_orig)), dots_orig)"
   ]
  },
  {
   "cell_type": "code",
   "execution_count": 5,
   "id": "9a74b8ce-4a48-4a5b-8019-368c4b116e83",
   "metadata": {},
   "outputs": [
    {
     "data": {
      "text/plain": [
       "(100, 14)"
      ]
     },
     "execution_count": 5,
     "metadata": {},
     "output_type": "execute_result"
    }
   ],
   "source": [
    "data_arr.shape\n",
    "\n",
    "\n"
   ]
  },
  {
   "cell_type": "code",
   "execution_count": 6,
   "id": "f605adc7-7814-4148-9a8c-ee8cd9fe5a9e",
   "metadata": {},
   "outputs": [],
   "source": [
    "arr_plus = []\n",
    "for j in range(100):\n",
    "    arr_plus.append([data_arr[j][i] - data_arr[j][i+1] for i in range(len(data_arr[0])-1)])\n",
    "\n",
    "arr_plus = np.array(arr_plus)    "
   ]
  },
  {
   "cell_type": "code",
   "execution_count": 81,
   "id": "64a3e464-5a81-4302-aa0f-2b635fa6e99a",
   "metadata": {},
   "outputs": [
    {
     "name": "stdin",
     "output_type": "stream",
     "text": [
      "Введи стартовую точку среза матрицы 4\n",
      "Введите размерность ядра. Ядро должно быть квадратной матрицей, поэтому укажите только число 1\n"
     ]
    },
    {
     "data": {
      "text/plain": [
       "[<matplotlib.lines.Line2D at 0x1950c425430>]"
      ]
     },
     "execution_count": 81,
     "metadata": {},
     "output_type": "execute_result"
    },
    {
     "data": {
      "image/png": "[encoded data removed]",
      "text/plain": [
       "<Figure size 1440x720 with 1 Axes>"
      ]
     },
     "metadata": {
      "needs_background": "light"
     },
     "output_type": "display_data"
    }
   ],
   "source": [
    "a = int(input(\"Введи стартовую точку среза матрицы\"))\n",
    "\n",
    "b = int(input(\"Введите размерность ядра. Ядро должно быть квадратной матрицей, поэтому укажите только число\"))\n",
    "\n",
    "#arr = data.to_numpy()\n",
    "\n",
    "dots_plus = []\n",
    "\n",
    "for i in range(100):   \n",
    "    kernel = arr_plus[i:b+i,a-1:(a-1)+b]\n",
    "    b_f = np.asarray(kernel)\n",
    "    b_f = np.fliplr(b_f)\n",
    "    dots_plus.append((np.trace(b_f)) / b)\n",
    "    \n",
    "len(dots)\n",
    "plt.figure(figsize=(20,10))\n",
    "plt.plot(range(len(dots_plus)), dots_plus)\n"
   ]
  },
  {
   "cell_type": "code",
   "execution_count": 18,
   "id": "8e2373f8-f0bf-49c1-b43c-f7358c2e3795",
   "metadata": {},
   "outputs": [
    {
     "data": {
      "text/html": [
       "<div>\n",
       "<style scoped>\n",
       "    .dataframe tbody tr th:only-of-type {\n",
       "        vertical-align: middle;\n",
       "    }\n",
       "\n",
       "    .dataframe tbody tr th {\n",
       "        vertical-align: top;\n",
       "    }\n",
       "\n",
       "    .dataframe thead th {\n",
       "        text-align: right;\n",
       "    }\n",
       "</style>\n",
       "<table border=\"1\" class=\"dataframe\">\n",
       "  <thead>\n",
       "    <tr style=\"text-align: right;\">\n",
       "      <th></th>\n",
       "      <th>point_1</th>\n",
       "      <th>point_2</th>\n",
       "      <th>point_3</th>\n",
       "      <th>point_4</th>\n",
       "      <th>point_5</th>\n",
       "      <th>point_6</th>\n",
       "      <th>point_7</th>\n",
       "      <th>point_8</th>\n",
       "      <th>point_9</th>\n",
       "      <th>point_10</th>\n",
       "      <th>point_11</th>\n",
       "      <th>point_12</th>\n",
       "      <th>point_13</th>\n",
       "      <th>point_14</th>\n",
       "    </tr>\n",
       "  </thead>\n",
       "  <tbody>\n",
       "    <tr>\n",
       "      <th>0</th>\n",
       "      <td>62</td>\n",
       "      <td>56</td>\n",
       "      <td>51</td>\n",
       "      <td>37</td>\n",
       "      <td>33</td>\n",
       "      <td>32</td>\n",
       "      <td>30</td>\n",
       "      <td>34</td>\n",
       "      <td>43</td>\n",
       "      <td>51</td>\n",
       "      <td>58</td>\n",
       "      <td>63</td>\n",
       "      <td>73</td>\n",
       "      <td>67</td>\n",
       "    </tr>\n",
       "    <tr>\n",
       "      <th>1</th>\n",
       "      <td>1919</td>\n",
       "      <td>1865</td>\n",
       "      <td>1572</td>\n",
       "      <td>1165</td>\n",
       "      <td>987</td>\n",
       "      <td>798</td>\n",
       "      <td>644</td>\n",
       "      <td>736</td>\n",
       "      <td>945</td>\n",
       "      <td>1233</td>\n",
       "      <td>1481</td>\n",
       "      <td>1621</td>\n",
       "      <td>2001</td>\n",
       "      <td>2063</td>\n",
       "    </tr>\n",
       "    <tr>\n",
       "      <th>2</th>\n",
       "      <td>1908</td>\n",
       "      <td>1864</td>\n",
       "      <td>1595</td>\n",
       "      <td>1190</td>\n",
       "      <td>1034</td>\n",
       "      <td>830</td>\n",
       "      <td>663</td>\n",
       "      <td>765</td>\n",
       "      <td>915</td>\n",
       "      <td>1191</td>\n",
       "      <td>1464</td>\n",
       "      <td>1577</td>\n",
       "      <td>1986</td>\n",
       "      <td>2045</td>\n",
       "    </tr>\n",
       "    <tr>\n",
       "      <th>3</th>\n",
       "      <td>1945</td>\n",
       "      <td>1890</td>\n",
       "      <td>1577</td>\n",
       "      <td>1166</td>\n",
       "      <td>978</td>\n",
       "      <td>791</td>\n",
       "      <td>640</td>\n",
       "      <td>734</td>\n",
       "      <td>923</td>\n",
       "      <td>1204</td>\n",
       "      <td>1496</td>\n",
       "      <td>1627</td>\n",
       "      <td>2015</td>\n",
       "      <td>2078</td>\n",
       "    </tr>\n",
       "    <tr>\n",
       "      <th>4</th>\n",
       "      <td>1897</td>\n",
       "      <td>1840</td>\n",
       "      <td>1582</td>\n",
       "      <td>1188</td>\n",
       "      <td>1026</td>\n",
       "      <td>833</td>\n",
       "      <td>685</td>\n",
       "      <td>774</td>\n",
       "      <td>937</td>\n",
       "      <td>1218</td>\n",
       "      <td>1471</td>\n",
       "      <td>1602</td>\n",
       "      <td>1979</td>\n",
       "      <td>2050</td>\n",
       "    </tr>\n",
       "    <tr>\n",
       "      <th>...</th>\n",
       "      <td>...</td>\n",
       "      <td>...</td>\n",
       "      <td>...</td>\n",
       "      <td>...</td>\n",
       "      <td>...</td>\n",
       "      <td>...</td>\n",
       "      <td>...</td>\n",
       "      <td>...</td>\n",
       "      <td>...</td>\n",
       "      <td>...</td>\n",
       "      <td>...</td>\n",
       "      <td>...</td>\n",
       "      <td>...</td>\n",
       "      <td>...</td>\n",
       "    </tr>\n",
       "    <tr>\n",
       "      <th>95</th>\n",
       "      <td>1850</td>\n",
       "      <td>1813</td>\n",
       "      <td>1545</td>\n",
       "      <td>1178</td>\n",
       "      <td>1018</td>\n",
       "      <td>859</td>\n",
       "      <td>709</td>\n",
       "      <td>818</td>\n",
       "      <td>1014</td>\n",
       "      <td>1260</td>\n",
       "      <td>1505</td>\n",
       "      <td>1593</td>\n",
       "      <td>1935</td>\n",
       "      <td>1991</td>\n",
       "    </tr>\n",
       "    <tr>\n",
       "      <th>96</th>\n",
       "      <td>1825</td>\n",
       "      <td>1773</td>\n",
       "      <td>1521</td>\n",
       "      <td>1171</td>\n",
       "      <td>1026</td>\n",
       "      <td>845</td>\n",
       "      <td>697</td>\n",
       "      <td>814</td>\n",
       "      <td>1028</td>\n",
       "      <td>1268</td>\n",
       "      <td>1508</td>\n",
       "      <td>1607</td>\n",
       "      <td>1958</td>\n",
       "      <td>1988</td>\n",
       "    </tr>\n",
       "    <tr>\n",
       "      <th>97</th>\n",
       "      <td>1833</td>\n",
       "      <td>1791</td>\n",
       "      <td>1522</td>\n",
       "      <td>1150</td>\n",
       "      <td>1019</td>\n",
       "      <td>840</td>\n",
       "      <td>734</td>\n",
       "      <td>809</td>\n",
       "      <td>1008</td>\n",
       "      <td>1267</td>\n",
       "      <td>1500</td>\n",
       "      <td>1598</td>\n",
       "      <td>1961</td>\n",
       "      <td>2005</td>\n",
       "    </tr>\n",
       "    <tr>\n",
       "      <th>98</th>\n",
       "      <td>1836</td>\n",
       "      <td>1788</td>\n",
       "      <td>1556</td>\n",
       "      <td>1160</td>\n",
       "      <td>1031</td>\n",
       "      <td>877</td>\n",
       "      <td>738</td>\n",
       "      <td>836</td>\n",
       "      <td>1006</td>\n",
       "      <td>1258</td>\n",
       "      <td>1495</td>\n",
       "      <td>1591</td>\n",
       "      <td>1941</td>\n",
       "      <td>1968</td>\n",
       "    </tr>\n",
       "    <tr>\n",
       "      <th>99</th>\n",
       "      <td>1836</td>\n",
       "      <td>1788</td>\n",
       "      <td>1514</td>\n",
       "      <td>1107</td>\n",
       "      <td>979</td>\n",
       "      <td>818</td>\n",
       "      <td>685</td>\n",
       "      <td>837</td>\n",
       "      <td>1026</td>\n",
       "      <td>1285</td>\n",
       "      <td>1530</td>\n",
       "      <td>1636</td>\n",
       "      <td>1978</td>\n",
       "      <td>2011</td>\n",
       "    </tr>\n",
       "  </tbody>\n",
       "</table>\n",
       "<p>100 rows × 14 columns</p>\n",
       "</div>"
      ],
      "text/plain": [
       "    point_1  point_2  point_3  point_4  point_5  point_6  point_7  point_8  \\\n",
       "0        62       56       51       37       33       32       30       34   \n",
       "1      1919     1865     1572     1165      987      798      644      736   \n",
       "2      1908     1864     1595     1190     1034      830      663      765   \n",
       "3      1945     1890     1577     1166      978      791      640      734   \n",
       "4      1897     1840     1582     1188     1026      833      685      774   \n",
       "..      ...      ...      ...      ...      ...      ...      ...      ...   \n",
       "95     1850     1813     1545     1178     1018      859      709      818   \n",
       "96     1825     1773     1521     1171     1026      845      697      814   \n",
       "97     1833     1791     1522     1150     1019      840      734      809   \n",
       "98     1836     1788     1556     1160     1031      877      738      836   \n",
       "99     1836     1788     1514     1107      979      818      685      837   \n",
       "\n",
       "    point_9  point_10  point_11  point_12  point_13  point_14  \n",
       "0        43        51        58        63        73        67  \n",
       "1       945      1233      1481      1621      2001      2063  \n",
       "2       915      1191      1464      1577      1986      2045  \n",
       "3       923      1204      1496      1627      2015      2078  \n",
       "4       937      1218      1471      1602      1979      2050  \n",
       "..      ...       ...       ...       ...       ...       ...  \n",
       "95     1014      1260      1505      1593      1935      1991  \n",
       "96     1028      1268      1508      1607      1958      1988  \n",
       "97     1008      1267      1500      1598      1961      2005  \n",
       "98     1006      1258      1495      1591      1941      1968  \n",
       "99     1026      1285      1530      1636      1978      2011  \n",
       "\n",
       "[100 rows x 14 columns]"
      ]
     },
     "execution_count": 18,
     "metadata": {},
     "output_type": "execute_result"
    }
   ],
   "source": [
    "data"
   ]
  },
  {
   "cell_type": "code",
   "execution_count": 26,
   "id": "09c222d5-5d66-4f80-b0dd-926b1ad9abb8",
   "metadata": {},
   "outputs": [
    {
     "data": {
      "text/plain": [
       "point_1     1857\n",
       "point_2     1809\n",
       "point_3     1521\n",
       "point_4     1128\n",
       "point_5      954\n",
       "point_6      766\n",
       "point_7      614\n",
       "point_8      702\n",
       "point_9      902\n",
       "point_10    1182\n",
       "point_11    1423\n",
       "point_12    1558\n",
       "point_13    1928\n",
       "point_14    1996\n",
       "dtype: int64"
      ]
     },
     "execution_count": 26,
     "metadata": {},
     "output_type": "execute_result"
    }
   ],
   "source": [
    "data.iloc[1] - data.iloc[0]"
   ]
  },
  {
   "cell_type": "code",
   "execution_count": 25,
   "id": "b588e0ff-df82-4fa4-b7eb-fecb96775ddd",
   "metadata": {},
   "outputs": [
    {
     "data": {
      "text/plain": [
       "point_1     1857\n",
       "point_2     1809\n",
       "point_3     1521\n",
       "point_4     1128\n",
       "point_5      954\n",
       "point_6      766\n",
       "point_7      614\n",
       "point_8      702\n",
       "point_9      902\n",
       "point_10    1182\n",
       "point_11    1423\n",
       "point_12    1558\n",
       "point_13    1928\n",
       "point_14    1996\n",
       "dtype: int64"
      ]
     },
     "execution_count": 25,
     "metadata": {},
     "output_type": "execute_result"
    }
   ],
   "source": [
    "data.iloc[1] - data.iloc[0]"
   ]
  },
  {
   "cell_type": "code",
   "execution_count": 7,
   "id": "f4676a03-1df7-4b02-9086-e540a2076ef5",
   "metadata": {},
   "outputs": [],
   "source": [
    "data_sub = np.empty((100,14))"
   ]
  },
  {
   "cell_type": "code",
   "execution_count": 27,
   "id": "dc7755d7-c70b-4377-8163-cd10c23e1ccd",
   "metadata": {},
   "outputs": [],
   "source": [
    "for i in range(98):\n",
    "    data_sub[i] = (data.iloc[i+1] + data.iloc[i]) / 2 "
   ]
  },
  {
   "cell_type": "code",
   "execution_count": 28,
   "id": "38735299-1ca6-4c3a-8222-75c92a368b6b",
   "metadata": {},
   "outputs": [
    {
     "data": {
      "text/plain": [
       "array([ 990.5,  960.5,  811.5,  601. ,  510. ,  415. ,  337. ,  385. ,\n",
       "        494. ,  642. ,  769.5,  842. , 1037. , 1065. ])"
      ]
     },
     "execution_count": 28,
     "metadata": {},
     "output_type": "execute_result"
    }
   ],
   "source": [
    "data_sub[0]"
   ]
  },
  {
   "cell_type": "code",
   "execution_count": null,
   "id": "b0ede09a-092c-4a2f-8cbf-d2b0ca081c7d",
   "metadata": {},
   "outputs": [],
   "source": []
  },
  {
   "cell_type": "code",
   "execution_count": null,
   "id": "8e14b797-24b7-48e3-b66f-0ba58fc0bf2a",
   "metadata": {},
   "outputs": [],
   "source": []
  },
  {
   "cell_type": "code",
   "execution_count": 65,
   "id": "b3aeae39-5fde-43f4-9b83-3910f96a18d4",
   "metadata": {},
   "outputs": [],
   "source": [
    "points = list(range(1,15))\n",
    "names = list(map(lambda x: 'point_{}'.format(x), points))\n",
    "data = pd.read_excel('Mn_sw-15_ampl-210.xlsx', header=None, names = names)"
   ]
  },
  {
   "cell_type": "code",
   "execution_count": 66,
   "id": "e6de6845-a4b6-48a2-8248-c594b6c3d925",
   "metadata": {},
   "outputs": [
    {
     "data": {
      "text/html": [
       "<div>\n",
       "<style scoped>\n",
       "    .dataframe tbody tr th:only-of-type {\n",
       "        vertical-align: middle;\n",
       "    }\n",
       "\n",
       "    .dataframe tbody tr th {\n",
       "        vertical-align: top;\n",
       "    }\n",
       "\n",
       "    .dataframe thead th {\n",
       "        text-align: right;\n",
       "    }\n",
       "</style>\n",
       "<table border=\"1\" class=\"dataframe\">\n",
       "  <thead>\n",
       "    <tr style=\"text-align: right;\">\n",
       "      <th></th>\n",
       "      <th>point_1</th>\n",
       "      <th>point_2</th>\n",
       "      <th>point_3</th>\n",
       "      <th>point_4</th>\n",
       "      <th>point_5</th>\n",
       "      <th>point_6</th>\n",
       "      <th>point_7</th>\n",
       "      <th>point_8</th>\n",
       "      <th>point_9</th>\n",
       "      <th>point_10</th>\n",
       "      <th>point_11</th>\n",
       "      <th>point_12</th>\n",
       "      <th>point_13</th>\n",
       "      <th>point_14</th>\n",
       "    </tr>\n",
       "  </thead>\n",
       "  <tbody>\n",
       "    <tr>\n",
       "      <th>0</th>\n",
       "      <td>182</td>\n",
       "      <td>184</td>\n",
       "      <td>197</td>\n",
       "      <td>224</td>\n",
       "      <td>208</td>\n",
       "      <td>184</td>\n",
       "      <td>136</td>\n",
       "      <td>82</td>\n",
       "      <td>116</td>\n",
       "      <td>117</td>\n",
       "      <td>130</td>\n",
       "      <td>181</td>\n",
       "      <td>142</td>\n",
       "      <td>158</td>\n",
       "    </tr>\n",
       "    <tr>\n",
       "      <th>1</th>\n",
       "      <td>169</td>\n",
       "      <td>189</td>\n",
       "      <td>208</td>\n",
       "      <td>238</td>\n",
       "      <td>199</td>\n",
       "      <td>172</td>\n",
       "      <td>141</td>\n",
       "      <td>110</td>\n",
       "      <td>72</td>\n",
       "      <td>101</td>\n",
       "      <td>138</td>\n",
       "      <td>164</td>\n",
       "      <td>131</td>\n",
       "      <td>163</td>\n",
       "    </tr>\n",
       "    <tr>\n",
       "      <th>2</th>\n",
       "      <td>165</td>\n",
       "      <td>157</td>\n",
       "      <td>214</td>\n",
       "      <td>231</td>\n",
       "      <td>212</td>\n",
       "      <td>176</td>\n",
       "      <td>165</td>\n",
       "      <td>121</td>\n",
       "      <td>90</td>\n",
       "      <td>102</td>\n",
       "      <td>124</td>\n",
       "      <td>173</td>\n",
       "      <td>141</td>\n",
       "      <td>168</td>\n",
       "    </tr>\n",
       "    <tr>\n",
       "      <th>3</th>\n",
       "      <td>190</td>\n",
       "      <td>164</td>\n",
       "      <td>197</td>\n",
       "      <td>218</td>\n",
       "      <td>193</td>\n",
       "      <td>166</td>\n",
       "      <td>132</td>\n",
       "      <td>104</td>\n",
       "      <td>110</td>\n",
       "      <td>97</td>\n",
       "      <td>148</td>\n",
       "      <td>173</td>\n",
       "      <td>149</td>\n",
       "      <td>166</td>\n",
       "    </tr>\n",
       "    <tr>\n",
       "      <th>4</th>\n",
       "      <td>160</td>\n",
       "      <td>169</td>\n",
       "      <td>193</td>\n",
       "      <td>222</td>\n",
       "      <td>221</td>\n",
       "      <td>173</td>\n",
       "      <td>138</td>\n",
       "      <td>132</td>\n",
       "      <td>116</td>\n",
       "      <td>112</td>\n",
       "      <td>119</td>\n",
       "      <td>153</td>\n",
       "      <td>155</td>\n",
       "      <td>157</td>\n",
       "    </tr>\n",
       "    <tr>\n",
       "      <th>...</th>\n",
       "      <td>...</td>\n",
       "      <td>...</td>\n",
       "      <td>...</td>\n",
       "      <td>...</td>\n",
       "      <td>...</td>\n",
       "      <td>...</td>\n",
       "      <td>...</td>\n",
       "      <td>...</td>\n",
       "      <td>...</td>\n",
       "      <td>...</td>\n",
       "      <td>...</td>\n",
       "      <td>...</td>\n",
       "      <td>...</td>\n",
       "      <td>...</td>\n",
       "    </tr>\n",
       "    <tr>\n",
       "      <th>994</th>\n",
       "      <td>142</td>\n",
       "      <td>202</td>\n",
       "      <td>198</td>\n",
       "      <td>233</td>\n",
       "      <td>193</td>\n",
       "      <td>194</td>\n",
       "      <td>148</td>\n",
       "      <td>109</td>\n",
       "      <td>87</td>\n",
       "      <td>89</td>\n",
       "      <td>127</td>\n",
       "      <td>157</td>\n",
       "      <td>134</td>\n",
       "      <td>164</td>\n",
       "    </tr>\n",
       "    <tr>\n",
       "      <th>995</th>\n",
       "      <td>189</td>\n",
       "      <td>185</td>\n",
       "      <td>204</td>\n",
       "      <td>213</td>\n",
       "      <td>191</td>\n",
       "      <td>181</td>\n",
       "      <td>164</td>\n",
       "      <td>121</td>\n",
       "      <td>88</td>\n",
       "      <td>101</td>\n",
       "      <td>126</td>\n",
       "      <td>160</td>\n",
       "      <td>115</td>\n",
       "      <td>161</td>\n",
       "    </tr>\n",
       "    <tr>\n",
       "      <th>996</th>\n",
       "      <td>167</td>\n",
       "      <td>195</td>\n",
       "      <td>192</td>\n",
       "      <td>227</td>\n",
       "      <td>209</td>\n",
       "      <td>168</td>\n",
       "      <td>139</td>\n",
       "      <td>109</td>\n",
       "      <td>101</td>\n",
       "      <td>97</td>\n",
       "      <td>122</td>\n",
       "      <td>179</td>\n",
       "      <td>127</td>\n",
       "      <td>180</td>\n",
       "    </tr>\n",
       "    <tr>\n",
       "      <th>997</th>\n",
       "      <td>172</td>\n",
       "      <td>171</td>\n",
       "      <td>190</td>\n",
       "      <td>214</td>\n",
       "      <td>209</td>\n",
       "      <td>174</td>\n",
       "      <td>141</td>\n",
       "      <td>93</td>\n",
       "      <td>100</td>\n",
       "      <td>116</td>\n",
       "      <td>132</td>\n",
       "      <td>157</td>\n",
       "      <td>127</td>\n",
       "      <td>155</td>\n",
       "    </tr>\n",
       "    <tr>\n",
       "      <th>998</th>\n",
       "      <td>172</td>\n",
       "      <td>185</td>\n",
       "      <td>197</td>\n",
       "      <td>213</td>\n",
       "      <td>191</td>\n",
       "      <td>177</td>\n",
       "      <td>127</td>\n",
       "      <td>95</td>\n",
       "      <td>110</td>\n",
       "      <td>96</td>\n",
       "      <td>136</td>\n",
       "      <td>182</td>\n",
       "      <td>150</td>\n",
       "      <td>150</td>\n",
       "    </tr>\n",
       "  </tbody>\n",
       "</table>\n",
       "<p>999 rows × 14 columns</p>\n",
       "</div>"
      ],
      "text/plain": [
       "     point_1  point_2  point_3  point_4  point_5  point_6  point_7  point_8  \\\n",
       "0        182      184      197      224      208      184      136       82   \n",
       "1        169      189      208      238      199      172      141      110   \n",
       "2        165      157      214      231      212      176      165      121   \n",
       "3        190      164      197      218      193      166      132      104   \n",
       "4        160      169      193      222      221      173      138      132   \n",
       "..       ...      ...      ...      ...      ...      ...      ...      ...   \n",
       "994      142      202      198      233      193      194      148      109   \n",
       "995      189      185      204      213      191      181      164      121   \n",
       "996      167      195      192      227      209      168      139      109   \n",
       "997      172      171      190      214      209      174      141       93   \n",
       "998      172      185      197      213      191      177      127       95   \n",
       "\n",
       "     point_9  point_10  point_11  point_12  point_13  point_14  \n",
       "0        116       117       130       181       142       158  \n",
       "1         72       101       138       164       131       163  \n",
       "2         90       102       124       173       141       168  \n",
       "3        110        97       148       173       149       166  \n",
       "4        116       112       119       153       155       157  \n",
       "..       ...       ...       ...       ...       ...       ...  \n",
       "994       87        89       127       157       134       164  \n",
       "995       88       101       126       160       115       161  \n",
       "996      101        97       122       179       127       180  \n",
       "997      100       116       132       157       127       155  \n",
       "998      110        96       136       182       150       150  \n",
       "\n",
       "[999 rows x 14 columns]"
      ]
     },
     "execution_count": 66,
     "metadata": {},
     "output_type": "execute_result"
    }
   ],
   "source": [
    "data"
   ]
  },
  {
   "cell_type": "code",
   "execution_count": 67,
   "id": "4dcfbb29-9bc8-45d6-995a-2b5b5aeb2a1b",
   "metadata": {},
   "outputs": [],
   "source": [
    "data_sub = np.empty((1000,14))\n",
    "for i in range(998):\n",
    "    data_sub[i] = (data.iloc[i+1] + data.iloc[i]) / 2 "
   ]
  },
  {
   "cell_type": "code",
   "execution_count": 69,
   "id": "a51d8a1d-17b0-43b3-8e46-177de5f89f1c",
   "metadata": {},
   "outputs": [],
   "source": [
    "full_data = np.empty((2000,14))"
   ]
  },
  {
   "cell_type": "code",
   "execution_count": 70,
   "id": "6aa81420-21a2-4302-8d19-d5832e587412",
   "metadata": {},
   "outputs": [],
   "source": [
    "full_data = []\n",
    "for i in range(997):\n",
    "    full_data.append(data.iloc[i])\n",
    "    full_data.append(data_sub[i])\n",
    "full_arr = np.array(full_data)"
   ]
  },
  {
   "cell_type": "code",
   "execution_count": 71,
   "id": "f160c421-d7b9-4626-b636-6c4a09ee706d",
   "metadata": {},
   "outputs": [
    {
     "data": {
      "text/plain": [
       "array([[182. , 184. , 197. , ..., 181. , 142. , 158. ],\n",
       "       [175.5, 186.5, 202.5, ..., 172.5, 136.5, 160.5],\n",
       "       [169. , 189. , 208. , ..., 164. , 131. , 163. ],\n",
       "       ...,\n",
       "       [178. , 190. , 198. , ..., 169.5, 121. , 170.5],\n",
       "       [167. , 195. , 192. , ..., 179. , 127. , 180. ],\n",
       "       [169.5, 183. , 191. , ..., 168. , 127. , 167.5]])"
      ]
     },
     "execution_count": 71,
     "metadata": {},
     "output_type": "execute_result"
    }
   ],
   "source": [
    "full_arr"
   ]
  },
  {
   "cell_type": "code",
   "execution_count": 72,
   "id": "eeddceb8-ceab-4666-9b3a-eecd554fafd3",
   "metadata": {},
   "outputs": [
    {
     "data": {
      "text/plain": [
       "(1994, 14)"
      ]
     },
     "execution_count": 72,
     "metadata": {},
     "output_type": "execute_result"
    }
   ],
   "source": [
    "\n",
    "full_arr.shape"
   ]
  },
  {
   "cell_type": "code",
   "execution_count": null,
   "id": "44a7f434-2f68-4c30-b649-753ddf075b50",
   "metadata": {},
   "outputs": [],
   "source": []
  },
  {
   "cell_type": "code",
   "execution_count": 73,
   "id": "6f98051f-18a3-4f26-87a9-98939056cc78",
   "metadata": {},
   "outputs": [],
   "source": [
    "arr_sin = list(range(0,14))\n",
    "str_sin = list(range(0,14))\n",
    "full = list()\n",
    "rad = 0/360\n",
    "\n",
    "for i in range(full_arr.shape[0]):\n",
    "    str_sin = 0\n",
    "    for j in range(full_arr.shape[1]):\n",
    "        str_sin += full_arr[i][j] * (np.sin((2* np.pi) * ((j / 14) + rad)))\n",
    "    full.append(str_sin)   "
   ]
  },
  {
   "cell_type": "code",
   "execution_count": 74,
   "id": "cace8157-c761-417a-8aef-7c413cc5819a",
   "metadata": {},
   "outputs": [
    {
     "data": {
      "text/plain": [
       "1994"
      ]
     },
     "execution_count": 74,
     "metadata": {},
     "output_type": "execute_result"
    }
   ],
   "source": [
    "len(full)"
   ]
  },
  {
   "cell_type": "code",
   "execution_count": 75,
   "id": "4316a405-103b-4ae5-992c-f8f4f8b729e5",
   "metadata": {},
   "outputs": [
    {
     "data": {
      "text/plain": [
       "[<matplotlib.lines.Line2D at 0x16610c5f940>]"
      ]
     },
     "execution_count": 75,
     "metadata": {},
     "output_type": "execute_result"
    },
    {
     "data": {
      "image/png": "[encoded data removed]",
      "text/plain": [
       "<Figure size 1440x720 with 1 Axes>"
      ]
     },
     "metadata": {
      "needs_background": "light"
     },
     "output_type": "display_data"
    }
   ],
   "source": [
    "plt.figure(figsize=(20,10))\n",
    "plt.plot(range(1994), full)"
   ]
  },
  {
   "cell_type": "code",
   "execution_count": null,
   "id": "b358c49b-b431-49ce-a1be-1f0935385a70",
   "metadata": {},
   "outputs": [],
   "source": []
  }
 ],
 "metadata": {
  "kernelspec": {
   "display_name": "Python 3",
   "language": "python",
   "name": "python3"
  },
  "language_info": {
   "codemirror_mode": {
    "name": "ipython",
    "version": 3
   },
   "file_extension": ".py",
   "mimetype": "text/x-python",
   "name": "python",
   "nbconvert_exporter": "python",
   "pygments_lexer": "ipython3",
   "version": "3.8.8"
  }
 },
 "nbformat": 4,
 "nbformat_minor": 5
}
