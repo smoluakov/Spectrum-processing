{
 "cells": [
  {
   "cell_type": "markdown",
   "metadata": {},
   "source": [
    "# IPython notebook in Dr. H's class"
   ]
  },
  {
   "cell_type": "markdown",
   "metadata": {
    "collapsed": true
   },
   "source": [
    "### Statistical distribution"
   ]
  },
  {
   "cell_type": "code",
   "execution_count": 6,
   "metadata": {
    "collapsed": false
   },
   "outputs": [
    {
     "name": "stdout",
     "output_type": "stream",
     "text": [
      "Populating the interactive namespace from numpy and matplotlib\n"
     ]
    },
    {
     "name": "stderr",
     "output_type": "stream",
     "text": [
      "WARNING: pylab import has clobbered these variables: ['random']\n",
      "`%matplotlib` prevents importing * from pylab and numpy\n"
     ]
    }
   ],
   "source": [
    "%pylab inline"
   ]
  },
  {
   "cell_type": "markdown",
   "metadata": {},
   "source": [
    "- Write a function that generates random coin flips, storing a value of 0 and +1 to correspond to heads and tails.\n",
    "\n",
    "- Then, write a loop to flip this X time (ie x = 1, 10, 100) and see what our average score (total number of heads - total number tails) is!"
   ]
  },
  {
   "cell_type": "code",
   "execution_count": 7,
   "metadata": {
    "collapsed": true
   },
   "outputs": [],
   "source": [
    "import random\n",
    "\n",
    "def fair_coin():\n",
    "    return random.choice([0,1])"
   ]
  },
  {
   "cell_type": "markdown",
   "metadata": {},
   "source": [
    "Test it out"
   ]
  },
  {
   "cell_type": "code",
   "execution_count": 8,
   "metadata": {
    "collapsed": false
   },
   "outputs": [],
   "source": [
    "def multi_trial(flips, flip_function):\n",
    "    total = 0\n",
    "    for i in range(FLIPS):\n",
    "        total += flip_function()   \n",
    "    return total"
   ]
  },
  {
   "cell_type": "code",
   "execution_count": 29,
   "metadata": {
    "collapsed": false
   },
   "outputs": [
    {
     "name": "stdout",
     "output_type": "stream",
     "text": [
      "Total score is: 3 out of 10 flips for \"fair_coin\"\n"
     ]
    }
   ],
   "source": [
    "FLIPS = 10 #How many flips to do\n",
    "\n",
    "score = multi_trial(FLIPS, fair_coin)\n",
    "print 'Total score is: %s out of %s flips for \"%s\"' % (score, FLIPS, 'fair_coin')"
   ]
  },
  {
   "cell_type": "markdown",
   "metadata": {},
   "source": [
    "What is a score that is out of the ordinary for 10 flips?  IE we expect on average, to get 0; however, we know that we won't always get 0.   We don't know the statistical distribution?  Let's test this for 1000 simulations of 10 flips. "
   ]
  },
  {
   "cell_type": "code",
   "execution_count": 27,
   "metadata": {
    "collapsed": false
   },
   "outputs": [
    {
     "data": {
      "image/png": "[encoded data removed]",
      "text/plain": [
       "<matplotlib.figure.Figure at 0x3c01ed0>"
      ]
     },
     "metadata": {},
     "output_type": "display_data"
    }
   ],
   "source": [
    "def simulation(trials=5, fcn=fair_coin, plot=True):\n",
    "    ''' Run a function TRIALS times, plot the results in a histogram '''\n",
    "    total = []\n",
    "    for i in range(trials):\n",
    "        total.append(multi_trial(FLIPS, fcn))\n",
    "\n",
    "    if plot:\n",
    "        plt.hist(total, bins=20, color='black')\n",
    "        plt.title('%s trials of %s' % (trials, fcn.__name__))\n",
    "        plt.xlabel('Score')\n",
    "        plt.ylabel('Occurrences')\n",
    "              \n",
    "simulation(2000) "
   ]
  },
  {
   "cell_type": "markdown",
   "metadata": {},
   "source": [
    "**TRY THIS WITH MORE FLIPS PER TRIAL (IE CHANGE FLIPS)**  Notice how the space fills up!"
   ]
  },
  {
   "cell_type": "markdown",
   "metadata": {},
   "source": [
    "Is this the binomial distribution?"
   ]
  },
  {
   "cell_type": "code",
   "execution_count": 13,
   "metadata": {
    "collapsed": false
   },
   "outputs": [
    {
     "data": {
      "text/html": [
       "<img src=\"http://docs.scipy.org/doc/numpy/_images/math/d0e9bf22b11bd63cac4e02feb23f7c40e2c26943.png\"/>"
      ],
      "text/plain": [
       "<IPython.core.display.Image object>"
      ]
     },
     "execution_count": 13,
     "metadata": {},
     "output_type": "execute_result"
    }
   ],
   "source": [
    "from IPython.display import Image\n",
    "Image(url='http://docs.scipy.org/doc/numpy/_images/math/d0e9bf22b11bd63cac4e02feb23f7c40e2c26943.png')"
   ]
  },
  {
   "cell_type": "markdown",
   "metadata": {},
   "source": [
    "We can use Numpy's [binomial distribution generator to check!](http://docs.scipy.org/doc/numpy/reference/generated/numpy.random.binomial.html).  "
   ]
  },
  {
   "cell_type": "code",
   "execution_count": 14,
   "metadata": {
    "collapsed": false
   },
   "outputs": [
    {
     "name": "stdout",
     "output_type": "stream",
     "text": [
      "Help on built-in function binomial:\n",
      "\n",
      "binomial(...)\n",
      "    binomial(n, p, size=None)\n",
      "    \n",
      "    Draw samples from a binomial distribution.\n",
      "    \n",
      "    Samples are drawn from a Binomial distribution with specified\n",
      "    parameters, n trials and p probability of success where\n",
      "    n an integer >= 0 and p is in the interval [0,1]. (n may be\n",
      "    input as a float, but it is truncated to an integer in use)\n",
      "    \n",
      "    Parameters\n",
      "    ----------\n",
      "    n : float (but truncated to an integer)\n",
      "            parameter, >= 0.\n",
      "    p : float\n",
      "            parameter, >= 0 and <=1.\n",
      "    size : {tuple, int}\n",
      "        Output shape.  If the given shape is, e.g., ``(m, n, k)``, then\n",
      "        ``m * n * k`` samples are drawn.\n",
      "    \n",
      "    Returns\n",
      "    -------\n",
      "    samples : {ndarray, scalar}\n",
      "              where the values are all integers in  [0, n].\n",
      "    \n",
      "    See Also\n",
      "    --------\n",
      "    scipy.stats.distributions.binom : probability density function,\n",
      "        distribution or cumulative density function, etc.\n",
      "    \n",
      "    Notes\n",
      "    -----\n",
      "    The probability density for the Binomial distribution is\n",
      "    \n",
      "    .. math:: P(N) = \\binom{n}{N}p^N(1-p)^{n-N},\n",
      "    \n",
      "    where :math:`n` is the number of trials, :math:`p` is the probability\n",
      "    of success, and :math:`N` is the number of successes.\n",
      "    \n",
      "    When estimating the standard error of a proportion in a population by\n",
      "    using a random sample, the normal distribution works well unless the\n",
      "    product p*n <=5, where p = population proportion estimate, and n =\n",
      "    number of samples, in which case the binomial distribution is used\n",
      "    instead. For example, a sample of 15 people shows 4 who are left\n",
      "    handed, and 11 who are right handed. Then p = 4/15 = 27%. 0.27*15 = 4,\n",
      "    so the binomial distribution should be used in this case.\n",
      "    \n",
      "    References\n",
      "    ----------\n",
      "    .. [1] Dalgaard, Peter, \"Introductory Statistics with R\",\n",
      "           Springer-Verlag, 2002.\n",
      "    .. [2] Glantz, Stanton A. \"Primer of Biostatistics.\", McGraw-Hill,\n",
      "           Fifth Edition, 2002.\n",
      "    .. [3] Lentner, Marvin, \"Elementary Applied Statistics\", Bogden\n",
      "           and Quigley, 1972.\n",
      "    .. [4] Weisstein, Eric W. \"Binomial Distribution.\" From MathWorld--A\n",
      "           Wolfram Web Resource.\n",
      "           http://mathworld.wolfram.com/BinomialDistribution.html\n",
      "    .. [5] Wikipedia, \"Binomial-distribution\",\n",
      "           http://en.wikipedia.org/wiki/Binomial_distribution\n",
      "    \n",
      "    Examples\n",
      "    --------\n",
      "    Draw samples from the distribution:\n",
      "    \n",
      "    >>> n, p = 10, .5 # number of trials, probability of each trial\n",
      "    >>> s = np.random.binomial(n, p, 1000)\n",
      "    # result of flipping a coin 10 times, tested 1000 times.\n",
      "    \n",
      "    A real world example. A company drills 9 wild-cat oil exploration\n",
      "    wells, each with an estimated probability of success of 0.1. All nine\n",
      "    wells fail. What is the probability of that happening?\n",
      "    \n",
      "    Let's do 20,000 trials of the model, and count the number that\n",
      "    generate zero positive results.\n",
      "    \n",
      "    >>> sum(np.random.binomial(9,0.1,20000)==0)/20000.\n",
      "    answer = 0.38885, or 38%.\n",
      "\n"
     ]
    }
   ],
   "source": [
    "help(np.random.binomial)"
   ]
  },
  {
   "cell_type": "code",
   "execution_count": 15,
   "metadata": {
    "collapsed": false
   },
   "outputs": [
    {
     "data": {
      "image/png": "[encoded data removed]",
      "text/plain": [
       "<matplotlib.figure.Figure at 0x2ee2250>"
      ]
     },
     "metadata": {},
     "output_type": "display_data"
    }
   ],
   "source": [
    "n, p = 10, .5 # number of trials, probability of each trial\n",
    "s = np.random.binomial(n, p, size=1000) # result of flipping a coin 10 times, tested 1000 times.\n",
    "plt.hist(s, bins=20);"
   ]
  },
  {
   "cell_type": "markdown",
   "metadata": {},
   "source": [
    "The variance of a binomial distribution follows the following formula:\n",
    "\n",
    "$V(X) = np(1-p)$\n",
    "\n",
    "Where n is the number of trials/flips.  The distribution is N, ie this was done thousands of times to get a real statistical distribution.\n",
    "\n",
    "Meaning the standard deviation is:\n",
    "\n",
    "$\\sigma(x) = \\sqrt{V(x)}$\n",
    "\n",
    "$\\sigma(x) = \\sqrt{np(1-p)}$\n",
    "\n",
    "For a fair coin:\n",
    "\n",
    "$\\sigma(x) = \\sqrt{n} \\times 0.25$"
   ]
  },
  {
   "cell_type": "code",
   "execution_count": 16,
   "metadata": {
    "collapsed": false
   },
   "outputs": [
    {
     "name": "stdout",
     "output_type": "stream",
     "text": [
      "std is 1.52804417475\n",
      "sqrt n times .25 is 1.58113883008\n"
     ]
    }
   ],
   "source": [
    "print 'std is %s' %(np.std(s))\n",
    "print 'sqrt n times .25 is',sqrt(10.0 * 0.25)"
   ]
  },
  {
   "cell_type": "markdown",
   "metadata": {},
   "source": [
    "**By the way, how fast this this?**"
   ]
  },
  {
   "cell_type": "code",
   "execution_count": 17,
   "metadata": {
    "collapsed": false
   },
   "outputs": [
    {
     "name": "stdout",
     "output_type": "stream",
     "text": [
      "10000 loops, best of 3: 99.6 \u00b5s per loop\n"
     ]
    }
   ],
   "source": [
    "%%timeit\n",
    "s = np.random.binomial(n, p, size=1000) # result of flipping a coin 10 times, tested 1000 times."
   ]
  },
  {
   "cell_type": "code",
   "execution_count": 18,
   "metadata": {
    "collapsed": false
   },
   "outputs": [
    {
     "name": "stdout",
     "output_type": "stream",
     "text": [
      "10 loops, best of 3: 28.1 ms per loop\n"
     ]
    }
   ],
   "source": [
    "%%timeit\n",
    "simulation(2000, plot=False) "
   ]
  },
  {
   "cell_type": "markdown",
   "metadata": {},
   "source": [
    "**What, 100-1000 times faster?**"
   ]
  },
  {
   "cell_type": "markdown",
   "metadata": {
    "collapsed": false
   },
   "source": [
    "### What about two coins"
   ]
  },
  {
   "cell_type": "markdown",
   "metadata": {},
   "source": [
    "We were pretty smart with our design of functions, so we can *ensemble* space, ie the number of possible outcomes.  "
   ]
  },
  {
   "cell_type": "code",
   "execution_count": 33,
   "metadata": {
    "collapsed": false
   },
   "outputs": [
    {
     "data": {
      "image/png": "[encoded data removed]",
      "text/plain": [
       "<matplotlib.figure.Figure at 0x2eb0d50>"
      ]
     },
     "metadata": {},
     "output_type": "display_data"
    }
   ],
   "source": [
    "def two_flips():\n",
    "    return fair_coin() + fair_coin()\n",
    "\n",
    "simulation(trials=5000, fcn=two_flips, plot=True)"
   ]
  },
  {
   "cell_type": "code",
   "execution_count": null,
   "metadata": {
    "collapsed": true
   },
   "outputs": [],
   "source": []
  },
  {
   "cell_type": "code",
   "execution_count": null,
   "metadata": {
    "collapsed": true
   },
   "outputs": [],
   "source": []
  },
  {
   "cell_type": "markdown",
   "metadata": {},
   "source": [
    "# IGNORE ME"
   ]
  },
  {
   "cell_type": "code",
   "execution_count": 19,
   "metadata": {
    "collapsed": false
   },
   "outputs": [],
   "source": [
    "import os.path as op\n",
    "from IPython.display import display, HTML\n",
    "\n",
    "def load_style(s, figsize=None, loghide=False):\n",
    "    \"\"\"Load a CSS stylesheet in the notebook either by builtin styles, or\n",
    "    from a file, or from a URL.\n",
    "    Examples::\n",
    "        %load_style \n",
    "        %load_style mystyle.css\n",
    "        %load_style http://ipynbstyles.com/otherstyle.css\n",
    "    \"\"\"\n",
    "    if s.startswith('http'):\n",
    "        try:\n",
    "            import requests\n",
    "        except ImportError:\n",
    "            raise ImportError('Failed to import python \"requests\" library;'\n",
    "                              'please install to use load_style(url)')\n",
    "        r =requests.get(s)\n",
    "        style = r.text\n",
    "\n",
    "    else:\n",
    "        try:\n",
    "            with open(s, 'r') as f:\n",
    "                style = f.read()\n",
    "        except IOError:\n",
    "            raise IOError('Failed to load style as a url, file or builtin type.'\n",
    "               ' Valid builtins are \"%s\"' % '\",\"'.join(__all__.keys() ))\n",
    "\n",
    "    out = '<style>\\n{style}\\n</style>'.format(style=style)\n",
    "    \n",
    "    if figsize:\n",
    "        if figsize == True:\n",
    "            figsize = 8, 5.5\n",
    "        else:\n",
    "            try:\n",
    "                fx, fy = figsize\n",
    "            except Exception:\n",
    "                fx, fy = figsize, figsize\n",
    "            \n",
    "        fstring = \"\\ninput:pylab.rcParams['figure.figsize'] = %s, %s\\n\" \\\n",
    "            % (fx,fy)\n",
    "        out += fstring\n",
    "\n",
    "    display(HTML(out))\n",
    "    \n",
    "    if loghide:\n",
    "        import warnings #supress non-skspec log msgs\n",
    "        warnings.filterwarnings('ignore')      \n"
   ]
  },
  {
   "cell_type": "code",
   "execution_count": 20,
   "metadata": {
    "collapsed": false
   },
   "outputs": [
    {
     "data": {
      "text/html": [
       "<style>\n",
       "#notebook_panel { /* main background */\n",
       "    background: #333;\n",
       "    color: #f6f6f6;\n",
       "}\n",
       "\n",
       "\n",
       "div #notebook { /* centre the content */\n",
       "    background: #FFFFF0;  /* IVORY */\n",
       "    color: #333;\n",
       "    width: 115ex;\n",
       "    margin: auto;\n",
       "    padding-left: 1em;\n",
       "    padding-right: 1em;\n",
       "    padding-top: 2ex;\n",
       "}\n",
       "\n",
       "\n",
       "div.text_cell_render {  /*Markdown cells */\n",
       "    font-family: Computer Modern Roman;\n",
       "}\n",
       "\n",
       "/* remove big margins around title */\n",
       "div.text_cell_render.border-box-sizing.rendered_html {\n",
       "    margin: 0; /*What is this */\n",
       "    padding: 0.05; /*Spacing between cells*/ \n",
       "    margin-left: 1ex;\n",
       "}\n",
       "div.cell.text_cell.border-box-sizing {\n",
       "    margin: 0;\n",
       "    padding: 0.05; \n",
       "}\n",
       "\n",
       ".rendered_html h1 {\n",
       "    margin: 0;\n",
       "    padding: 0;\n",
       "}\n",
       ".rendered_html h2 {\n",
       "    margin: 0;\n",
       "    padding: 0;\n",
       "}\n",
       ".rendered_html h3 {\n",
       "    margin: 0;\n",
       "    padding: 0;\n",
       "}\n",
       "\n",
       "/* Width of all cells */\n",
       "div.cell { /* set cell width to about 80 chars */\n",
       "    width: 55em;\n",
       "\n",
       "}\n",
       "\n",
       "/* Set font of coding cells (DONT KNOW WHY BUT NEED THIS) */\n",
       ".CodeMirror {\n",
       "    /* Preferred font is bold sawasdee, but here are backups */\n",
       "    font-family: \"Sawasdee\", \"Lucida Sans Typewriter\",\"Lucida Typewriter\", \n",
       "         \"Lucida Typewriter\", \"Courier New\", Courier, monospace;;\n",
       "    font-size: normal;\n",
       "    font-weight: 700; \n",
       "}\n",
       "\n",
       "div.cell.code_cell { /* Total code cell, in and out */\n",
       "    background: #FFFFF0;\n",
       "    border: none;\n",
       "    padding-top: 1ex;\n",
       "}\n",
       "\n",
       "div.input_area { /* box around box with code ??? */\n",
       "    border: none;\n",
       "    background: #f5f5f5;\n",
       "    border: 1px solid #fff;\n",
       "    border-radius: 10px;\n",
       "    padding-top: 0.5ex;\n",
       "    padding-bottom: 0.5ex;\n",
       "    padding-left: 0.5em;\n",
       "}\n",
       "\n",
       "div.input { /* box with code */\n",
       "}\n",
       "\n",
       "\n",
       "div.prompt { /* remove In/Out prompt */\n",
       "    display: none;\n",
       "}\n",
       "\n",
       "div.output_subarea { /* remove margin in front of output */\n",
       "    border: none;\n",
       "}\n",
       "\n",
       "div.cell.border-box-sizing.code_cell.running { \n",
       "    /* draw red dotted border around running cells */\n",
       "    border: 3px dotted #f33;\n",
       "}\n",
       "\n",
       "/* header colours and fonts */\n",
       "h1 { color: #444; }\n",
       "h2 { color: #444; font-style: oblique}\n",
       "h3 { color: #0000A0; font-weight: normal}\n",
       "h4 { color: #444; font-weight: oblique; font-size: large}\n",
       "\n",
       "\n",
       "</style>"
      ],
      "text/plain": [
       "<IPython.core.display.HTML object>"
      ]
     },
     "metadata": {},
     "output_type": "display_data"
    }
   ],
   "source": [
    "#load_style('https://raw.githubusercontent.com/panditarevolution/ipythonNotebook_customs/master/monokai/custom.css')\n",
    "load_style('https://raw.githubusercontent.com/hugadams/skspec/master/skspec/bundled/gwu.css')"
   ]
  }
 ],
 "metadata": {
  "kernelspec": {
   "display_name": "IPython (Python 2)",
   "name": "python2"
  },
  "language_info": {
   "codemirror_mode": {
    "name": "ipython",
    "version": 2
   },
   "mimetype": "text/x-python",
   "name": "python",
   "pygments_lexer": "ipython2"
  },
  "signature": "sha256:3953ac7af48e16be46228206dfa760dd8b0becce2d4c06883560fc8ba1f5a876"
 },
 "nbformat": 4,
 "nbformat_minor": 0
}