{
 "metadata": {
  "kernelspec": {
   "codemirror_mode": {
    "name": "ipython",
    "version": 2
   },
   "display_name": "IPython (Python 2)",
   "language": "python",
   "name": "python2"
  },
  "name": "",
  "signature": "sha256:ab75e3dd66e66b463ab22c5b6484143643c5d9c6d05af0d646024f3a42fa5074"
 },
 "nbformat": 3,
 "nbformat_minor": 0,
 "worksheets": [
  {
   "cells": [
    {
     "cell_type": "heading",
     "level": 1,
     "metadata": {},
     "source": [
      "Helping Mike Out"
     ]
    },
    {
     "cell_type": "heading",
     "level": 3,
     "metadata": {},
     "source": [
      "Objective"
     ]
    },
    {
     "cell_type": "markdown",
     "metadata": {},
     "source": [
      "Help out my noob friend mike"
     ]
    },
    {
     "cell_type": "heading",
     "level": 3,
     "metadata": {},
     "source": [
      "Environment Setup"
     ]
    },
    {
     "cell_type": "markdown",
     "metadata": {},
     "source": [
      "Configure notebook style (see NBCONFIG.ipynb), add imports and paths.  The **%run** magic used below <font color='red'>**requires IPython 2.0 or higher.**</font>"
     ]
    },
    {
     "cell_type": "code",
     "collapsed": false,
     "input": [
      "%run NBCONFIG.ipynb"
     ],
     "language": "python",
     "metadata": {},
     "outputs": [
      {
       "output_type": "stream",
       "stream": "stdout",
       "text": [
        "Populating the interactive namespace from numpy and matplotlib\n",
        "['dti', 'd', 'h', 'm', 'us', 's', 'ms', 'intvl', 'ns']\n"
       ]
      },
      {
       "html": [
        "<style>\n",
        "#notebook_panel { /* main background */\n",
        "    background: #333;\n",
        "    color: #f6f6f6;\n",
        "}\n",
        "\n",
        "\n",
        "div #notebook { /* centre the content */\n",
        "    background: #FFFFF0;  /* IVORY */\n",
        "    color: #333;\n",
        "    width: 115ex;\n",
        "    margin: auto;\n",
        "    padding-left: 1em;\n",
        "    padding-right: 1em;\n",
        "    padding-top: 2ex;\n",
        "}\n",
        "\n",
        "\n",
        "div.text_cell_render {  /*Markdown cells */\n",
        "    font-family: Computer Modern Roman;\n",
        "}\n",
        "\n",
        "/* remove big margins around title */\n",
        "div.text_cell_render.border-box-sizing.rendered_html {\n",
        "    margin: 0; /*What is this */\n",
        "    padding: 0.05; /*Spacing between cells*/ \n",
        "    margin-left: 1ex;\n",
        "}\n",
        "div.cell.text_cell.border-box-sizing {\n",
        "    margin: 0;\n",
        "    padding: 0.05; \n",
        "}\n",
        "\n",
        ".rendered_html h1 {\n",
        "    margin: 0;\n",
        "    padding: 0;\n",
        "}\n",
        ".rendered_html h2 {\n",
        "    margin: 0;\n",
        "    padding: 0;\n",
        "}\n",
        ".rendered_html h3 {\n",
        "    margin: 0;\n",
        "    padding: 0;\n",
        "}\n",
        "\n",
        "/* Width of all cells */\n",
        "div.cell { /* set cell width to about 80 chars */\n",
        "    width: 55em;\n",
        "\n",
        "}\n",
        "\n",
        "/* Set font of coding cells (DONT KNOW WHY BUT NEED THIS) */\n",
        ".CodeMirror {\n",
        "    /* Preferred font is bold sawasdee, but here are backups */\n",
        "    font-family: \"Sawasdee\", \"Lucida Sans Typewriter\",\"Lucida Typewriter\", \n",
        "         \"Lucida Typewriter\", \"Courier New\", Courier, monospace;;\n",
        "    font-size: normal;\n",
        "    font-weight: 700; \n",
        "}\n",
        "\n",
        "div.cell.code_cell { /* Total code cell, in and out */\n",
        "    background: #FFFFF0;\n",
        "    border: none;\n",
        "    padding-top: 1ex;\n",
        "}\n",
        "\n",
        "div.input_area { /* box around box with code ??? */\n",
        "    border: none;\n",
        "    background: #f5f5f5;\n",
        "    border: 1px solid #fff;\n",
        "    border-radius: 10px;\n",
        "    padding-top: 0.5ex;\n",
        "    padding-bottom: 0.5ex;\n",
        "    padding-left: 0.5em;\n",
        "}\n",
        "\n",
        "div.input { /* box with code */\n",
        "}\n",
        "\n",
        "\n",
        "div.prompt { /* remove In/Out prompt */\n",
        "    display: none;\n",
        "}\n",
        "\n",
        "div.output_subarea { /* remove margin in front of output */\n",
        "    border: none;\n",
        "}\n",
        "\n",
        "div.cell.border-box-sizing.code_cell.running { \n",
        "    /* draw red dotted border around running cells */\n",
        "    border: 3px dotted #f33;\n",
        "}\n",
        "\n",
        "/* header colours and fonts */\n",
        "h1 { color: #444; }\n",
        "h2 { color: #444; font-style: oblique}\n",
        "h3 { color: #0000A0; font-weight: normal}\n",
        "h4 { color: #444; font-weight: oblique; font-size: large}\n",
        "\n",
        "\n",
        "</style>"
       ],
       "metadata": {},
       "output_type": "display_data",
       "text": [
        "<IPython.core.display.HTML object>"
       ]
      }
     ],
     "prompt_number": 1
    },
    {
     "cell_type": "heading",
     "level": 3,
     "metadata": {},
     "source": [
      "PANDAS SOLUTION"
     ]
    },
    {
     "cell_type": "code",
     "collapsed": false,
     "input": [
      "FILEXLS = '/home/glue/Desktop/formic.xls'\n",
      "FILECSV = '/home/glue/Desktop/formic.csv'"
     ],
     "language": "python",
     "metadata": {},
     "outputs": [],
     "prompt_number": 2
    },
    {
     "cell_type": "code",
     "collapsed": false,
     "input": [
      "from pandas import read_excel\n",
      "\n",
      "df = read_excel(FILEXLS)\n",
      "df"
     ],
     "language": "python",
     "metadata": {},
     "outputs": [
      {
       "html": [
        "<div style=\"max-height:1000px;max-width:1500px;overflow:auto;\">\n",
        "<table border=\"1\" class=\"dataframe\">\n",
        "  <thead>\n",
        "    <tr style=\"text-align: right;\">\n",
        "      <th></th>\n",
        "      <th>NIN</th>\n",
        "      <th>DMDDATE</th>\n",
        "      <th>DMDQTY</th>\n",
        "      <th>QTR</th>\n",
        "    </tr>\n",
        "  </thead>\n",
        "  <tbody>\n",
        "    <tr>\n",
        "      <th>0 </th>\n",
        "      <td> 11111</td>\n",
        "      <td> 20090101</td>\n",
        "      <td>  2</td>\n",
        "      <td>  1</td>\n",
        "    </tr>\n",
        "    <tr>\n",
        "      <th>1 </th>\n",
        "      <td> 11111</td>\n",
        "      <td> 20090501</td>\n",
        "      <td>  4</td>\n",
        "      <td>  1</td>\n",
        "    </tr>\n",
        "    <tr>\n",
        "      <th>2 </th>\n",
        "      <td> 11111</td>\n",
        "      <td> 20090701</td>\n",
        "      <td>  6</td>\n",
        "      <td>  3</td>\n",
        "    </tr>\n",
        "    <tr>\n",
        "      <th>3 </th>\n",
        "      <td> 22222</td>\n",
        "      <td> 20090101</td>\n",
        "      <td>  8</td>\n",
        "      <td>  1</td>\n",
        "    </tr>\n",
        "    <tr>\n",
        "      <th>4 </th>\n",
        "      <td> 22222</td>\n",
        "      <td> 20120601</td>\n",
        "      <td> 10</td>\n",
        "      <td>  3</td>\n",
        "    </tr>\n",
        "    <tr>\n",
        "      <th>5 </th>\n",
        "      <td> 22222</td>\n",
        "      <td> 20130101</td>\n",
        "      <td> 12</td>\n",
        "      <td>  7</td>\n",
        "    </tr>\n",
        "    <tr>\n",
        "      <th>6 </th>\n",
        "      <td> 22222</td>\n",
        "      <td> 20130301</td>\n",
        "      <td> 14</td>\n",
        "      <td>  7</td>\n",
        "    </tr>\n",
        "    <tr>\n",
        "      <th>7 </th>\n",
        "      <td> 22222</td>\n",
        "      <td> 20131001</td>\n",
        "      <td> 53</td>\n",
        "      <td>  9</td>\n",
        "    </tr>\n",
        "    <tr>\n",
        "      <th>8 </th>\n",
        "      <td> 22222</td>\n",
        "      <td> 20131201</td>\n",
        "      <td>  6</td>\n",
        "      <td> 12</td>\n",
        "    </tr>\n",
        "    <tr>\n",
        "      <th>9 </th>\n",
        "      <td> 33333</td>\n",
        "      <td> 20091201</td>\n",
        "      <td> 23</td>\n",
        "      <td>  1</td>\n",
        "    </tr>\n",
        "    <tr>\n",
        "      <th>10</th>\n",
        "      <td> 33333</td>\n",
        "      <td> 20131201</td>\n",
        "      <td>  3</td>\n",
        "      <td>  5</td>\n",
        "    </tr>\n",
        "  </tbody>\n",
        "</table>\n",
        "</div>"
       ],
       "metadata": {},
       "output_type": "pyout",
       "prompt_number": 3,
       "text": [
        "      NIN   DMDDATE  DMDQTY  QTR\n",
        "0   11111  20090101       2    1\n",
        "1   11111  20090501       4    1\n",
        "2   11111  20090701       6    3\n",
        "3   22222  20090101       8    1\n",
        "4   22222  20120601      10    3\n",
        "5   22222  20130101      12    7\n",
        "6   22222  20130301      14    7\n",
        "7   22222  20131001      53    9\n",
        "8   22222  20131201       6   12\n",
        "9   33333  20091201      23    1\n",
        "10  33333  20131201       3    5"
       ]
      }
     ],
     "prompt_number": 3
    },
    {
     "cell_type": "code",
     "collapsed": false,
     "input": [
      "df111 = df [df['NIN'] == 11111]\n",
      "df111"
     ],
     "language": "python",
     "metadata": {},
     "outputs": [
      {
       "html": [
        "<div style=\"max-height:1000px;max-width:1500px;overflow:auto;\">\n",
        "<table border=\"1\" class=\"dataframe\">\n",
        "  <thead>\n",
        "    <tr style=\"text-align: right;\">\n",
        "      <th></th>\n",
        "      <th>NIN</th>\n",
        "      <th>DMDDATE</th>\n",
        "      <th>DMDQTY</th>\n",
        "      <th>QTR</th>\n",
        "    </tr>\n",
        "  </thead>\n",
        "  <tbody>\n",
        "    <tr>\n",
        "      <th>0</th>\n",
        "      <td> 11111</td>\n",
        "      <td> 20090101</td>\n",
        "      <td> 2</td>\n",
        "      <td> 1</td>\n",
        "    </tr>\n",
        "    <tr>\n",
        "      <th>1</th>\n",
        "      <td> 11111</td>\n",
        "      <td> 20090501</td>\n",
        "      <td> 4</td>\n",
        "      <td> 1</td>\n",
        "    </tr>\n",
        "    <tr>\n",
        "      <th>2</th>\n",
        "      <td> 11111</td>\n",
        "      <td> 20090701</td>\n",
        "      <td> 6</td>\n",
        "      <td> 3</td>\n",
        "    </tr>\n",
        "  </tbody>\n",
        "</table>\n",
        "</div>"
       ],
       "metadata": {},
       "output_type": "pyout",
       "prompt_number": 4,
       "text": [
        "     NIN   DMDDATE  DMDQTY  QTR\n",
        "0  11111  20090101       2    1\n",
        "1  11111  20090501       4    1\n",
        "2  11111  20090701       6    3"
       ]
      }
     ],
     "prompt_number": 4
    },
    {
     "cell_type": "markdown",
     "metadata": {},
     "source": [
      "Look at the unique values for the QTR column"
     ]
    },
    {
     "cell_type": "code",
     "collapsed": false,
     "input": [
      "len( df111['QTR'].unique() )"
     ],
     "language": "python",
     "metadata": {},
     "outputs": [
      {
       "metadata": {},
       "output_type": "pyout",
       "prompt_number": 5,
       "text": [
        "2"
       ]
      }
     ],
     "prompt_number": 5
    },
    {
     "cell_type": "markdown",
     "metadata": {},
     "source": [
      "Import a *random* int generator to show off how to apply a function elementwise, essentially a mapping for a column in your dataset"
     ]
    },
    {
     "cell_type": "code",
     "collapsed": false,
     "input": [
      "from random import randint as rint\n",
      "\n",
      "def fakemap(value):\n",
      "    return rint(1,10)\n",
      "\n",
      "dates = df['DMDDATE']\n",
      "QTR_FOO = dates.apply(fakemap)"
     ],
     "language": "python",
     "metadata": {},
     "outputs": [],
     "prompt_number": 6
    },
    {
     "cell_type": "markdown",
     "metadata": {},
     "source": [
      "Create a newcolumn, append it to the orignal"
     ]
    },
    {
     "cell_type": "code",
     "collapsed": false,
     "input": [
      "df['QTR_FOO'] = QTR_FOO\n",
      "df"
     ],
     "language": "python",
     "metadata": {},
     "outputs": [
      {
       "html": [
        "<div style=\"max-height:1000px;max-width:1500px;overflow:auto;\">\n",
        "<table border=\"1\" class=\"dataframe\">\n",
        "  <thead>\n",
        "    <tr style=\"text-align: right;\">\n",
        "      <th></th>\n",
        "      <th>NIN</th>\n",
        "      <th>DMDDATE</th>\n",
        "      <th>DMDQTY</th>\n",
        "      <th>QTR</th>\n",
        "      <th>QTR_FOO</th>\n",
        "    </tr>\n",
        "  </thead>\n",
        "  <tbody>\n",
        "    <tr>\n",
        "      <th>0 </th>\n",
        "      <td> 11111</td>\n",
        "      <td> 20090101</td>\n",
        "      <td>  2</td>\n",
        "      <td>  1</td>\n",
        "      <td> 1</td>\n",
        "    </tr>\n",
        "    <tr>\n",
        "      <th>1 </th>\n",
        "      <td> 11111</td>\n",
        "      <td> 20090501</td>\n",
        "      <td>  4</td>\n",
        "      <td>  1</td>\n",
        "      <td> 5</td>\n",
        "    </tr>\n",
        "    <tr>\n",
        "      <th>2 </th>\n",
        "      <td> 11111</td>\n",
        "      <td> 20090701</td>\n",
        "      <td>  6</td>\n",
        "      <td>  3</td>\n",
        "      <td> 4</td>\n",
        "    </tr>\n",
        "    <tr>\n",
        "      <th>3 </th>\n",
        "      <td> 22222</td>\n",
        "      <td> 20090101</td>\n",
        "      <td>  8</td>\n",
        "      <td>  1</td>\n",
        "      <td> 2</td>\n",
        "    </tr>\n",
        "    <tr>\n",
        "      <th>4 </th>\n",
        "      <td> 22222</td>\n",
        "      <td> 20120601</td>\n",
        "      <td> 10</td>\n",
        "      <td>  3</td>\n",
        "      <td> 1</td>\n",
        "    </tr>\n",
        "    <tr>\n",
        "      <th>5 </th>\n",
        "      <td> 22222</td>\n",
        "      <td> 20130101</td>\n",
        "      <td> 12</td>\n",
        "      <td>  7</td>\n",
        "      <td> 4</td>\n",
        "    </tr>\n",
        "    <tr>\n",
        "      <th>6 </th>\n",
        "      <td> 22222</td>\n",
        "      <td> 20130301</td>\n",
        "      <td> 14</td>\n",
        "      <td>  7</td>\n",
        "      <td> 2</td>\n",
        "    </tr>\n",
        "    <tr>\n",
        "      <th>7 </th>\n",
        "      <td> 22222</td>\n",
        "      <td> 20131001</td>\n",
        "      <td> 53</td>\n",
        "      <td>  9</td>\n",
        "      <td> 3</td>\n",
        "    </tr>\n",
        "    <tr>\n",
        "      <th>8 </th>\n",
        "      <td> 22222</td>\n",
        "      <td> 20131201</td>\n",
        "      <td>  6</td>\n",
        "      <td> 12</td>\n",
        "      <td> 3</td>\n",
        "    </tr>\n",
        "    <tr>\n",
        "      <th>9 </th>\n",
        "      <td> 33333</td>\n",
        "      <td> 20091201</td>\n",
        "      <td> 23</td>\n",
        "      <td>  1</td>\n",
        "      <td> 1</td>\n",
        "    </tr>\n",
        "    <tr>\n",
        "      <th>10</th>\n",
        "      <td> 33333</td>\n",
        "      <td> 20131201</td>\n",
        "      <td>  3</td>\n",
        "      <td>  5</td>\n",
        "      <td> 6</td>\n",
        "    </tr>\n",
        "  </tbody>\n",
        "</table>\n",
        "</div>"
       ],
       "metadata": {},
       "output_type": "pyout",
       "prompt_number": 7,
       "text": [
        "      NIN   DMDDATE  DMDQTY  QTR  QTR_FOO\n",
        "0   11111  20090101       2    1        1\n",
        "1   11111  20090501       4    1        5\n",
        "2   11111  20090701       6    3        4\n",
        "3   22222  20090101       8    1        2\n",
        "4   22222  20120601      10    3        1\n",
        "5   22222  20130101      12    7        4\n",
        "6   22222  20130301      14    7        2\n",
        "7   22222  20131001      53    9        3\n",
        "8   22222  20131201       6   12        3\n",
        "9   33333  20091201      23    1        1\n",
        "10  33333  20131201       3    5        6"
       ]
      }
     ],
     "prompt_number": 7
    },
    {
     "cell_type": "heading",
     "level": 3,
     "metadata": {},
     "source": [
      "PURE PYTHON SOLUTION"
     ]
    },
    {
     "cell_type": "code",
     "collapsed": false,
     "input": [
      "f = open(FILECSV, 'r') \n",
      "lines = f.readlines()\n",
      "\n",
      "DATADIC = {}\n",
      "\n",
      "for (idx, line) in enumerate(lines):\n",
      "     sline = line.strip().split(',')\n",
      "     print idx, sline"
     ],
     "language": "python",
     "metadata": {},
     "outputs": [
      {
       "output_type": "stream",
       "stream": "stdout",
       "text": [
        "0 ['\"NIN\"', '\"DMDDATE\"', '\"DMDQTY\"', '\"QTR\"']\n",
        "1 ['11111', '20090101', '2', '1']\n",
        "2 ['11111', '20090501', '4', '1']\n",
        "3 ['11111', '20090701', '6', '3']\n",
        "4 ['22222', '20090101', '8', '1']\n",
        "5 ['22222', '20120601', '10', '3']\n",
        "6 ['22222', '20130101', '12', '7']\n",
        "7 ['22222', '20130301', '14', '7']\n",
        "8 ['22222', '20131001', '53', '9']\n",
        "9 ['22222', '20131201', '6', '12']\n",
        "10 ['33333', '20091201', '23', '1']\n",
        "11 ['33333', '20131201', '3', '5']\n"
       ]
      }
     ],
     "prompt_number": 8
    },
    {
     "cell_type": "code",
     "collapsed": false,
     "input": [],
     "language": "python",
     "metadata": {},
     "outputs": [],
     "prompt_number": 8
    },
    {
     "cell_type": "code",
     "collapsed": false,
     "input": [],
     "language": "python",
     "metadata": {},
     "outputs": [],
     "prompt_number": 8
    },
    {
     "cell_type": "code",
     "collapsed": false,
     "input": [],
     "language": "python",
     "metadata": {},
     "outputs": [],
     "prompt_number": 8
    },
    {
     "cell_type": "heading",
     "level": 3,
     "metadata": {},
     "source": [
      "SCRATCH"
     ]
    },
    {
     "cell_type": "code",
     "collapsed": false,
     "input": [
      "UNIQUE_DFS = []\n",
      "\n",
      "for nin in df['NIN'].unique():\n",
      "    UNIQUE_DFS.append(df [df['NIN'] == nin])\n",
      "    \n",
      "# for data in UNIQUE_DFS:\n",
      "#     dates = data['DMDDATE'].apply(fakemap) #Apply function to date column\n",
      "#     df['QTR_FOO'] = QTR_FOO #Write a new column\n",
      "#     UNIQUE_DFS.append(df)"
     ],
     "language": "python",
     "metadata": {},
     "outputs": [],
     "prompt_number": 9
    },
    {
     "cell_type": "code",
     "collapsed": false,
     "input": [
      "for df in UNIQUE_DFS:\n",
      "    unq = df['QTR_FOO'].unique()\n",
      "    print unq, len(unq)\n",
      "    \n",
      "    \n"
     ],
     "language": "python",
     "metadata": {},
     "outputs": [
      {
       "output_type": "stream",
       "stream": "stdout",
       "text": [
        "[1 5 4] 3\n",
        "[2 1 4 3] 4\n",
        "[1 6] 2\n"
       ]
      }
     ],
     "prompt_number": 13
    },
    {
     "cell_type": "code",
     "collapsed": false,
     "input": [
      "[len(df['QTR_FOO'].unique()) for df in UNIQUE_DFS]"
     ],
     "language": "python",
     "metadata": {},
     "outputs": [
      {
       "metadata": {},
       "output_type": "pyout",
       "prompt_number": 14,
       "text": [
        "[3, 4, 2]"
       ]
      }
     ],
     "prompt_number": 14
    },
    {
     "cell_type": "markdown",
     "metadata": {},
     "source": [
      "<hr>\n",
      "<br>\n",
      "\n",
      "\n",
      "<div style=\"float:left; \\\">\n",
      "    <img src=\"https://avatars0.githubusercontent.com/u/1972276?s=460\" \n",
      " align=left; text-align:center; style=\"float:left; margin-left: 5px; margin-top: -25px; width:150px; height:150px\" /> \n",
      "</div>\n",
      "\n",
      "<div style=\"float:left; \\\"><a href=\"https://github.com/hugadams\">\n",
      "    <img src=\"https://assets-cdn.github.com/images/modules/logos_page/GitHub-Mark.png\" \n",
      " align=left; text-align:center; style=\"float:left; margin-left: 25px; margin-top: -25px; width:75px; height:75px\" /> \n",
      "</div>\n",
      "\n",
      "\n",
      "<div style=\"float:left; \\\"><a href=\"https://twitter.com/hughesadam87\">\n",
      "    <img src=\"http://paymentmagnates.com/wp-content/uploads/2014/04/twitter-icon.png\" \n",
      " align=left; text-align:center; style=\"float:left; margin-left: 25px; margin-top: -25px; width:75px; height:75px\" /> \n",
      "</div>\n",
      "\n",
      "<div style=\"float:left; \\\"><a href=\"https://www.researchgate.net/profile/Adam_Hughes2?ev=hdr_xprf\">\n",
      "    <img src=\"http://www.txhughes.com/images/button-researchgate.png\" \n",
      " align=left; text-align:center; style=\"float:left; margin-left: -175px; margin-top: 55px; width:75px; height:75px\" /> \n",
      "</div>\n",
      "\n",
      "<div style=\"float:left; \\\"><a href=\"https://www.linkedin.com/profile/view?id=121484744&trk=nav_responsive_tab_profile_picg\">\n",
      "    <img src=\"http://smallbusinessesdoitbetter.com/wordpress/wp-content/uploads/li.png\" \n",
      " align=left; text-align:center; style=\"float:left; margin-left: -75px; margin-top: 55px; width:75px; height:75px\" /> \n",
      "</div>\n",
      "\n",
      "<div style=\"float:center; \\\"><a href=\"http://www.gwu.edu/\">\n",
      "    <img src=\"https://raw.githubusercontent.com/hugadams/pyparty/master/pyparty/data/gwu.png\" \n",
      " align=center style=\"float:center; margin-right: 30px; margin-top: -35px; width:335px; height:180px\" />\n",
      "</div>\n",
      "\n",
      "\n",
      "<h4 style=\"margin-top:0px;\"> This notebook is free for redistribution. If citing, please reference as: </h4>\n",
      "- *Hughes, A. (2012). [A Computational Framework for Plasmonic Nanobiosensing](https://www.researchgate.net/publication/236672995_A_Computational_Framework_for_Plasmonic_Nanobiosensing).  Python in Science Conference [SCIPY].* \n",
      "\n",
      "\n",
      "<h3 style=\"margin-top:30px;\"> Questions or Feedback? </h3>\n",
      "\n",
      "* skspec@groups.google.com\n",
      "* hugadams@gwmail.gwu.edu \n",
      "* twitter:  <a href=\"https://twitter.com/hughesadam87\" target=\"_blank\">@hughesadam87</a>\n",
      "* <a href=\"http://www.gwu.edu/~condmat/CME/reeves.html\" target=\"_blank\">Mark Reeves Biophysics Group</a>\n",
      "\n",
      "\n",
      "\n",
      "\n",
      "<h3 style=\"margin-top:30px;\"> References: </h3>\n",
      "\n",
      "* [1] : **REF 1**\n",
      "* [2] : **REF 2**\n",
      "\n",
      "\n",
      "\n",
      "\n",
      "\n",
      "<h3 style=\"margin-top:30px;\"> Related: </h3>\n",
      "\n",
      "   * <a href=\"https://github.com/hugadams/pyparty\" target=\"_blank\">skspec: Exploratory Spectral Data Analysis</a>\n",
      "   * <a href=\"https://github.com/hugadams/pyparty\" target=\"_blank\">pyparty: Image Analysis of Particles</a>\n",
      "   * <a href=\"http://lorenabarba.com/\" target=\"_blank\">Lorena A. Barba (GWU Engineering)</a>\n",
      "   * <a href=\"http://www.youtube.com/watch?v=W7RgkHM-B60\" target=\"_blank\">xray: extended arrays for scientific datasets</a>\n",
      "\n",
      "\n",
      "\n",
      "<h3 style=\"margin-top:30px;\">Notebook styling ideas:</h3>\n",
      "\n",
      "* <a href=\"http://blog.louic.nl/?p=683\" target=\"_blank\">Louic's web blog</a>\n",
      "* <a href=\"https://plot.ly/feed\" target=\"_blank\">Plotly</a>\n",
      "* <a href=\"http://damon-is-a-geek.com/publication-ready-the-first-time-beautiful-reproducible-plots-with-matplotlib.html\" target=\"_blank\">Publication-ready the first time: Beautiful, reproducible plots with Matplotlib</a>\n",
      "\n",
      "<br>\n",
      "<hr>"
     ]
    }
   ],
   "metadata": {}
  }
 ]
}