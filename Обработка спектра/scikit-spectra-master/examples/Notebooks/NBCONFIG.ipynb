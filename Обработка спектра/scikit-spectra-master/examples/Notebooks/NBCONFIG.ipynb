{
 "metadata": {
  "name": "",
  "signature": "sha256:0407c4b92679aa1bac56d2faf34ea7b75f16bb0d71994da41e65364705cb3bdd"
 },
 "nbformat": 3,
 "nbformat_minor": 0,
 "worksheets": [
  {
   "cells": [
    {
     "cell_type": "heading",
     "level": 1,
     "metadata": {},
     "source": [
      "Configuration for notebook style"
     ]
    },
    {
     "cell_type": "markdown",
     "metadata": {},
     "source": [
      "This notebook is intended to be run by other notebooks through the **%run** ipython magic.  The running notebook will then be styled nicely, have the most common pyparty imports, have pre-set figure size and plotting backend (svg), and will suppress logging in certain cases.\n",
      "\n",
      "Figure style should be updated later based on Damon McDougall's blog to reflect journal latex templates (see **Related**)."
     ]
    },
    {
     "cell_type": "code",
     "collapsed": false,
     "input": [
      "%pylab inline"
     ],
     "language": "python",
     "metadata": {},
     "outputs": [
      {
       "output_type": "stream",
       "stream": "stdout",
       "text": [
        "Populating the interactive namespace from numpy and matplotlib\n"
       ]
      }
     ],
     "prompt_number": 1
    },
    {
     "cell_type": "heading",
     "level": 3,
     "metadata": {},
     "source": [
      "Globals for quicker tweaking"
     ]
    },
    {
     "cell_type": "code",
     "collapsed": false,
     "input": [
      "JOURNAL_TEXT = 9\n",
      "\n",
      "# Plotting\n",
      "LABELSIZE = JOURNAL_TEXT +1 #All plot text except legends (recommed JT -1)\n",
      "LEGENDSIZE = LABELSIZE * 1.2\n",
      "\n",
      "# Notebook Style (pyparty style, path or url to .css or None)\n",
      "NBSTYLE = 'gwu'  \n",
      "\n",
      "# Logging\n",
      "HIDE_LOG = True"
     ],
     "language": "python",
     "metadata": {},
     "outputs": [],
     "prompt_number": 2
    },
    {
     "cell_type": "heading",
     "level": 4,
     "metadata": {},
     "source": [
      "Load common skspec imports"
     ]
    },
    {
     "cell_type": "code",
     "collapsed": false,
     "input": [
      "from __future__ import division\n",
      "# ADD skspec STUFF\n",
      "#from pyparty import Canvas, splot, showim"
     ],
     "language": "python",
     "metadata": {},
     "outputs": [],
     "prompt_number": 3
    },
    {
     "cell_type": "heading",
     "level": 4,
     "metadata": {},
     "source": [
      "Set notebook style from pyparty.bundled function"
     ]
    },
    {
     "cell_type": "code",
     "collapsed": false,
     "input": [
      "if NBSTYLE:\n",
      "    from skspec.bundled import load_style\n",
      "    load_style(NBSTYLE);"
     ],
     "language": "python",
     "metadata": {},
     "outputs": [
      {
       "html": [
        "<style>\n",
        "#notebook_panel { /* main background */\n",
        "    background: #333;\n",
        "    color: #f6f6f6;\n",
        "}\n",
        "\n",
        "\n",
        "div #notebook { /* centre the content */\n",
        "    background: #FFFFF0;  /* IVORY */\n",
        "    color: #333;\n",
        "    width: 115ex;\n",
        "    margin: auto;\n",
        "    padding-left: 1em;\n",
        "    padding-right: 1em;\n",
        "    padding-top: 2ex;\n",
        "}\n",
        "\n",
        "\n",
        "div.text_cell_render {  /*Markdown cells */\n",
        "    font-family: Computer Modern Roman;\n",
        "}\n",
        "\n",
        "/* remove big margins around title */\n",
        "div.text_cell_render.border-box-sizing.rendered_html {\n",
        "    margin: 0; /*What is this */\n",
        "    padding: 0.05; /*Spacing between cells*/ \n",
        "    margin-left: 1ex;\n",
        "}\n",
        "div.cell.text_cell.border-box-sizing {\n",
        "    margin: 0;\n",
        "    padding: 0.05; \n",
        "}\n",
        "\n",
        ".rendered_html h1 {\n",
        "    margin: 0;\n",
        "    padding: 0;\n",
        "}\n",
        ".rendered_html h2 {\n",
        "    margin: 0;\n",
        "    padding: 0;\n",
        "}\n",
        ".rendered_html h3 {\n",
        "    margin: 0;\n",
        "    padding: 0;\n",
        "}\n",
        "\n",
        "/* Width of all cells */\n",
        "div.cell { /* set cell width to about 80 chars */\n",
        "    width: 55em;\n",
        "\n",
        "}\n",
        "\n",
        "/* Set font of coding cells (DONT KNOW WHY BUT NEED THIS) */\n",
        ".CodeMirror {\n",
        "    /* Preferred font is bold sawasdee, but here are backups */\n",
        "    font-family: \"Sawasdee\", \"Lucida Sans Typewriter\",\"Lucida Typewriter\", \n",
        "         \"Lucida Typewriter\", \"Courier New\", Courier, monospace;;\n",
        "    font-size: normal;\n",
        "    font-weight: 700; \n",
        "}\n",
        "\n",
        "div.cell.code_cell { /* Total code cell, in and out */\n",
        "    background: #FFFFF0;\n",
        "    border: none;\n",
        "    padding-top: 1ex;\n",
        "}\n",
        "\n",
        "div.input_area { /* box around box with code ??? */\n",
        "    border: none;\n",
        "    background: #f5f5f5;\n",
        "    border: 1px solid #fff;\n",
        "    border-radius: 10px;\n",
        "    padding-top: 0.5ex;\n",
        "    padding-bottom: 0.5ex;\n",
        "    padding-left: 0.5em;\n",
        "}\n",
        "\n",
        "div.input { /* box with code */\n",
        "}\n",
        "\n",
        "\n",
        "div.prompt { /* remove In/Out prompt */\n",
        "    display: none;\n",
        "}\n",
        "\n",
        "div.output_subarea { /* remove margin in front of output */\n",
        "    border: none;\n",
        "}\n",
        "\n",
        "div.cell.border-box-sizing.code_cell.running { \n",
        "    /* draw red dotted border around running cells */\n",
        "    border: 3px dotted #f33;\n",
        "}\n",
        "\n",
        "/* header colours and fonts */\n",
        "h1 { color: #444; }\n",
        "h2 { color: #444; font-style: oblique}\n",
        "h3 { color: #0000A0; font-weight: normal}\n",
        "h4 { color: #444; font-weight: oblique; font-size: large}\n",
        "\n",
        "\n",
        "</style>"
       ],
       "metadata": {},
       "output_type": "display_data",
       "text": [
        "<IPython.core.display.HTML at 0x3c979d0>"
       ]
      }
     ],
     "prompt_number": 4
    },
    {
     "cell_type": "heading",
     "level": 4,
     "metadata": {},
     "source": [
      "Matplotlib Style settings"
     ]
    },
    {
     "cell_type": "markdown",
     "metadata": {},
     "source": [
      "You can find the matplotlibrc file path via:\n",
      "\n",
      ".. >>> matplotlib.matplotlib_fname()\n",
      "\n",
      "The computer modern font setting is default, so I am happy with it; however, changing the font as done in the commented block below seems to be buggy in the notebook.  I can't change the font or its weight, but the size does seem to change correctly...\n",
      "\n",
      "**Caveats:**\n",
      "- <font color='green'>text.usetex=True</font> requires dvipng and Ghostscript\n",
      "  - sudo apt-get install dvipng && sudo apt-get install ghostscript\n",
      "  - Tex is still rendered, just sized unsually if usetex=False"
     ]
    },
    {
     "cell_type": "code",
     "collapsed": false,
     "input": [
      "from matplotlib import rcParams\n",
      "\n",
      "# # Figure/lines\n",
      "rcParams['figure.figsize'] = (7.3, 4.2) # SET THIS BASED ON LATEX CONSDIERATIONS LATER!\n",
      "rcParams['lines.linewidth'] = 2.0\n",
      "#rcParams['figure.facecolor'] = '0.7' #Plot border, doesn't work\n",
      "\n",
      "# Plot itself\n",
      "#rcParams['axes.facecolor'] = '0.75'  # Gray background\n",
      "#rcParams['grid.color'] = 'white'   # grid color\n",
      "\n",
      "#Grid\n",
      "#rcParams['axes.grid'] = True   # display grid or not (has no effect)\n",
      "\n",
      "# # Labels\n",
      "rcParams['axes.labelsize'] = LABELSIZE\n",
      "rcParams['xtick.labelsize'] = LABELSIZE\n",
      "rcParams['ytick.labelsize'] = LABELSIZE\n",
      "\n",
      "# # Colors\n",
      "#rcParams['axes.facecolor'] = (1,0,0) #Same as ipython notebook\n",
      "\n",
      "# # Legend\n",
      "rcParams['legend.loc'] = 'upper right'\n",
      "rcParams['legend.fontsize'] = LEGENDSIZE\n",
      "rcParams['legend.fancybox'] = True\n",
      "rcParams['legend.scatterpoints'] = 1  # Draw one scatter point in legend   \n",
      "rcParams['legend.markerscale'] = 1.5 # But make it large\n",
      "\n",
      "# # Font and text\n",
      "rcParams['font.family'] = 'serif'\n",
      "rcParams['font.serif'] = ['Computer Modern']  # Also used by latex (this is default already)\n",
      "#rcParams['font.weight'] = 'bold'  # These don't work\n",
      "#rcParams['font.style'] = 'oblique'\n",
      "rcParams['font.size'] = LABELSIZE     #Matplotlib title, labels\n",
      "\n",
      "# Text and latex\n",
      "rcParams['text.usetex'] = False  # Slight differce in how math symbols; as well as text labeled\n",
      "rcParams['text.color'] = 'black'\n",
      "\n",
      "# # Image\n",
      "rcParams['image.cmap'] = 'jet'  #Default colormap for 1-channel images/contours\n",
      "\n",
      "# #Saving\n",
      "rcParams['savefig.dpi'] = 200\n",
      "rcParams['savefig.format'] = 'png'\n",
      "rcParams['savefig.bbox'] = 'tight' #or standard"
     ],
     "language": "python",
     "metadata": {},
     "outputs": [],
     "prompt_number": 5
    },
    {
     "cell_type": "heading",
     "level": 4,
     "metadata": {},
     "source": [
      "Set default plotting fig size and backend to SVG."
     ]
    },
    {
     "cell_type": "code",
     "collapsed": false,
     "input": [
      "%config InlineBackend.figure_format = 'svg'"
     ],
     "language": "python",
     "metadata": {},
     "outputs": [],
     "prompt_number": 6
    },
    {
     "cell_type": "heading",
     "level": 4,
     "metadata": {},
     "source": [
      "Supress warning from logging in most places"
     ]
    },
    {
     "cell_type": "code",
     "collapsed": false,
     "input": [
      "if HIDE_LOG:\n",
      "    import warnings #supress non-pyparty log msgs\n",
      "    warnings.filterwarnings('ignore') "
     ],
     "language": "python",
     "metadata": {},
     "outputs": [],
     "prompt_number": 7
    },
    {
     "cell_type": "heading",
     "level": 4,
     "metadata": {},
     "source": [
      "Plotly update keyword (to make plotly plots closer to mpl settings defined here)"
     ]
    },
    {
     "cell_type": "markdown",
     "metadata": {},
     "source": [
      "Used in calls to `plotly.iplot_mplot(update=_pyudpate)`"
     ]
    },
    {
     "cell_type": "code",
     "collapsed": false,
     "input": [
      "_pyupdate =  dict(\n",
      "                        layout = \n",
      "                         dict(\n",
      "#                                showlegend = False,\n",
      "                                font = dict(size=JOURNAL_TEXT),\n",
      "                                plot_bgcolor='rgb(191,191,191)' #roughly .75 of 255\n",
      "                             ),\n",
      "                           )"
     ],
     "language": "python",
     "metadata": {},
     "outputs": [],
     "prompt_number": 7
    },
    {
     "cell_type": "markdown",
     "metadata": {},
     "source": [
      "<hr>\n",
      "<br>\n",
      "\n",
      "\n",
      "<div style=\"float:left; \\\">\n",
      "    <img src=\"https://avatars0.githubusercontent.com/u/1972276?s=460\" \n",
      " align=left; text-align:center; style=\"float:left; margin-left: 5px; margin-top: -25px; width:150px; height:150px\" /> \n",
      "</div>\n",
      "\n",
      "<div style=\"float:left; \\\"><a href=\"https://github.com/hugadams\">\n",
      "    <img src=\"https://assets-cdn.github.com/images/modules/logos_page/GitHub-Mark.png\" \n",
      " align=left; text-align:center; style=\"float:left; margin-left: 25px; margin-top: -25px; width:75px; height:75px\" /> \n",
      "</div>\n",
      "\n",
      "\n",
      "<div style=\"float:left; \\\"><a href=\"https://twitter.com/hughesadam87\">\n",
      "    <img src=\"http://paymentmagnates.com/wp-content/uploads/2014/04/twitter-icon.png\" \n",
      " align=left; text-align:center; style=\"float:left; margin-left: 25px; margin-top: -25px; width:75px; height:75px\" /> \n",
      "</div>\n",
      "\n",
      "<div style=\"float:left; \\\"><a href=\"https://www.researchgate.net/profile/Adam_Hughes2?ev=hdr_xprf\">\n",
      "    <img src=\"http://www.txhughes.com/images/button-researchgate.png\" \n",
      " align=left; text-align:center; style=\"float:left; margin-left: -175px; margin-top: 55px; width:75px; height:75px\" /> \n",
      "</div>\n",
      "\n",
      "<div style=\"float:left; \\\"><a href=\"https://www.linkedin.com/profile/view?id=121484744&trk=nav_responsive_tab_profile_picg\">\n",
      "    <img src=\"http://smallbusinessesdoitbetter.com/wordpress/wp-content/uploads/li.png\" \n",
      " align=left; text-align:center; style=\"float:left; margin-left: -75px; margin-top: 55px; width:75px; height:75px\" /> \n",
      "</div>\n",
      "\n",
      "<div style=\"float:center; \\\"><a href=\"http://www.gwu.edu/\">\n",
      "    <img src=\"https://raw.githubusercontent.com/hugadams/pyparty/master/pyparty/data/gwu.png\" \n",
      " align=center style=\"float:center; margin-right: 30px; margin-top: -35px; width:335px; height:180px\" />\n",
      "</div>\n",
      "\n",
      "\n",
      "<h4 style=\"margin-top:0px;\"> This notebook is free for redistribution. If citing, please reference as: </h4>\n",
      "- *Hughes, A. (2012). [A Computational Framework for Plasmonic Nanobiosensing](https://www.researchgate.net/publication/236672995_A_Computational_Framework_for_Plasmonic_Nanobiosensing).  Python in Science Conference [SCIPY].* \n",
      "\n",
      "\n",
      "<h3 style=\"margin-top:30px;\"> Questions or Feedback? </h3>\n",
      "\n",
      "* hugadams@gwmail.gwu.edu \n",
      "* twitter:  <a href=\"https://twitter.com/hughesadam87\" target=\"_blank\">@hughesadam87</a>\n",
      "* <a href=\"http://www.gwu.edu/~condmat/CME/reeves.html\" target=\"_blank\">Mark Reeves Biophysics Group</a>\n",
      "\n",
      "\n",
      "\n",
      "\n",
      "<h3 style=\"margin-top:30px;\"> References: </h3>\n",
      "\n",
      "* [1] : **REF 1**\n",
      "* [2] : **REF 2**\n",
      "\n",
      "\n",
      "\n",
      "\n",
      "\n",
      "<h3 style=\"margin-top:30px;\"> Related: </h3>\n",
      "\n",
      "   * <a href=\"https://github.com/hugadams/pyparty\" target=\"_blank\">skspec: Exploratory Spectral Data Analysis</a>\n",
      "   * <a href=\"https://github.com/hugadams/pyparty\" target=\"_blank\">pyparty: Image Analysis of Particles</a>\n",
      "   * <a href=\"http://lorenabarba.com/\" target=\"_blank\">Lorena A. Barba (GWU Engineering)</a>\n",
      "\n",
      "\n",
      "\n",
      "\n",
      "\n",
      "<h3 style=\"margin-top:30px;\">Notebook styling ideas:</h3>\n",
      "\n",
      "* <a href=\"http://blog.louic.nl/?p=683\" target=\"_blank\">Louic's web blog</a>\n",
      "* <a href=\"https://plot.ly/feed\" target=\"_blank\">Plotly</a>\n",
      "* <a href=\"http://damon-is-a-geek.com/publication-ready-the-first-time-beautiful-reproducible-plots-with-matplotlib.htm\" target=\"_blank\">Publication-ready the first time: Beautiful, reproducible plots with Matplotlib</a>\n",
      "\n",
      "<br>\n",
      "<hr>"
     ]
    }
   ],
   "metadata": {}
  }
 ]
}