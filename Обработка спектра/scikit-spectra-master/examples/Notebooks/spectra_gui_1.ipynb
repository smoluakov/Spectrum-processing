{
 "cells": [
  {
   "cell_type": "code",
   "execution_count": 1,
   "metadata": {
    "collapsed": false
   },
   "outputs": [
    {
     "name": "stdout",
     "output_type": "stream",
     "text": [
      "Populating the interactive namespace from numpy and matplotlib\n",
      "['dti', 'd', 'h', 'm', 'us', 's', 'ms', 'intvl', 'ns']\n"
     ]
    },
    {
     "data": {
      "text/html": [
       "<style>\n",
       "#notebook_panel { /* main background */\n",
       "    background: #333;\n",
       "    color: #f6f6f6;\n",
       "}\n",
       "\n",
       "\n",
       "div #notebook { /* centre the content */\n",
       "    background: #FFFFF0;  /* IVORY */\n",
       "    color: #333;\n",
       "    width: 115ex;\n",
       "    margin: auto;\n",
       "    padding-left: 1em;\n",
       "    padding-right: 1em;\n",
       "    padding-top: 2ex;\n",
       "}\n",
       "\n",
       "\n",
       "div.text_cell_render {  /*Markdown cells */\n",
       "    font-family: Computer Modern Roman;\n",
       "}\n",
       "\n",
       "/* remove big margins around title */\n",
       "div.text_cell_render.border-box-sizing.rendered_html {\n",
       "    margin: 0; /*What is this */\n",
       "    padding: 0.05; /*Spacing between cells*/ \n",
       "    margin-left: 1ex;\n",
       "}\n",
       "div.cell.text_cell.border-box-sizing {\n",
       "    margin: 0;\n",
       "    padding: 0.05; \n",
       "}\n",
       "\n",
       ".rendered_html h1 {\n",
       "    margin: 0;\n",
       "    padding: 0;\n",
       "}\n",
       ".rendered_html h2 {\n",
       "    margin: 0;\n",
       "    padding: 0;\n",
       "}\n",
       ".rendered_html h3 {\n",
       "    margin: 0;\n",
       "    padding: 0;\n",
       "}\n",
       "\n",
       "/* Width of all cells */\n",
       "div.cell { /* set cell width to about 80 chars */\n",
       "    width: 55em;\n",
       "\n",
       "}\n",
       "\n",
       "/* Set font of coding cells (DONT KNOW WHY BUT NEED THIS) */\n",
       ".CodeMirror {\n",
       "    /* Preferred font is bold sawasdee, but here are backups */\n",
       "    font-family: \"Sawasdee\", \"Lucida Sans Typewriter\",\"Lucida Typewriter\", \n",
       "         \"Lucida Typewriter\", \"Courier New\", Courier, monospace;;\n",
       "    font-size: normal;\n",
       "    font-weight: 700; \n",
       "}\n",
       "\n",
       "div.cell.code_cell { /* Total code cell, in and out */\n",
       "    background: #FFFFF0;\n",
       "    border: none;\n",
       "    padding-top: 1ex;\n",
       "}\n",
       "\n",
       "div.input_area { /* box around box with code ??? */\n",
       "    border: none;\n",
       "    background: #f5f5f5;\n",
       "    border: 1px solid #fff;\n",
       "    border-radius: 10px;\n",
       "    padding-top: 0.5ex;\n",
       "    padding-bottom: 0.5ex;\n",
       "    padding-left: 0.5em;\n",
       "}\n",
       "\n",
       "div.input { /* box with code */\n",
       "}\n",
       "\n",
       "\n",
       "div.prompt { /* remove In/Out prompt */\n",
       "    display: none;\n",
       "}\n",
       "\n",
       "div.output_subarea { /* remove margin in front of output */\n",
       "    border: none;\n",
       "}\n",
       "\n",
       "div.cell.border-box-sizing.code_cell.running { \n",
       "    /* draw red dotted border around running cells */\n",
       "    border: 3px dotted #f33;\n",
       "}\n",
       "\n",
       "/* header colours and fonts */\n",
       "h1 { color: #444; }\n",
       "h2 { color: #444; font-style: oblique}\n",
       "h3 { color: #0000A0; font-weight: normal}\n",
       "h4 { color: #444; font-weight: oblique; font-size: large}\n",
       "\n",
       "\n",
       "</style>"
      ],
      "text/plain": [
       "<IPython.core.display.HTML object>"
      ]
     },
     "metadata": {},
     "output_type": "display_data"
    },
    {
     "name": "stdout",
     "output_type": "stream",
     "text": [
      "Populating the interactive namespace from numpy and matplotlib\n"
     ]
    }
   ],
   "source": [
    "%run 'NBCONFIG.ipynb'\n",
    "%pylab inline"
   ]
  },
  {
   "cell_type": "markdown",
   "metadata": {},
   "source": [
    "### RUN THE GUI"
   ]
  },
  {
   "cell_type": "code",
   "execution_count": 2,
   "metadata": {
    "collapsed": false
   },
   "outputs": [
    {
     "name": "stderr",
     "output_type": "stream",
     "text": [
      "WARNING:skspec.core.spectra:Spectrum does not have subtracted baseline; could affect result in specious absorbance data.\n"
     ]
    },
    {
     "data": {
      "text/html": [
       "<style> .widget-area .spectroscopy .panel-body{padding: 0.5;} .widget-area .spectroscopy .widget-numeric-text{width: 2.5em;} .widget-area .spectroscopy .widget-box.start{margin-left: 0;} .widget-area .spectroscopy .widget-hslider{width: 10em;} .widget-area .spectroscopy .widget-text{width: 10em;} </style>"
      ],
      "text/plain": [
       "<IPython.core.display.HTML object>"
      ]
     },
     "execution_count": 2,
     "metadata": {},
     "output_type": "execute_result"
    }
   ],
   "source": [
    "from skspec.data import aunps_water, aunps_glass\n",
    "from skspec.interact import SpectraGui\n",
    "from skspec.interact import SpectraModel\n",
    "\n",
    "testspectra = aunps_glass().as_varunit('s')\n",
    "test2 = aunps_water()\n",
    "testspectra.reference = 0\n",
    "\n",
    "specmodel = SpectraModel(spec=testspectra) #I can initialize/set traits here\n",
    "\n",
    "gui = SpectraGui(model=specmodel)\n",
    "gui.tight_layout()"
   ]
  },
  {
   "cell_type": "code",
   "execution_count": 3,
   "metadata": {
    "collapsed": true
   },
   "outputs": [],
   "source": [
    "gui"
   ]
  }
 ],
 "metadata": {
  "kernelspec": {
   "display_name": "IPython (Python 2)",
   "name": "python2"
  },
  "language_info": {
   "codemirror_mode": {
    "name": "ipython",
    "version": 2
   },
   "mimetype": "text/x-python",
   "name": "python",
   "pygments_lexer": "ipython2"
  },
  "signature": "sha256:ad9f3570529d08953e7609fc0855a9fefd4ee0283c1910e20238ee685fbd548e"
 },
 "nbformat": 4,
 "nbformat_minor": 0
}