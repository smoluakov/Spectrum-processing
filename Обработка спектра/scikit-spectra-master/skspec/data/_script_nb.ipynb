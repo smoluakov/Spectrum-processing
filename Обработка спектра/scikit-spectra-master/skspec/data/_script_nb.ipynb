{
 "metadata": {
  "name": "",
  "signature": "sha256:77990c6818d8c35d8578c40f53d24b55158d792a904536de48f5f6785387a8cd"
 },
 "nbformat": 3,
 "nbformat_minor": 0,
 "worksheets": [
  {
   "cells": [
    {
     "cell_type": "heading",
     "level": 1,
     "metadata": {},
     "source": [
      "---ROOT---"
     ]
    },
    {
     "cell_type": "code",
     "collapsed": false,
     "input": [
      "import os.path as op\n",
      "from skspec import TimeSpectra, examples_dir\n",
      "from skspec.plotting import six_plot\n",
      "\n",
      "import plotly.plotly as py\n",
      "import plotly.tools as tls\n",
      "creds = tls.get_credentials_file()\n",
      "user, api_key, tokens = creds['username'], creds['api_key'], creds['stream_ids']\n",
      "py.sign_in(user, api_key)\n",
      "\n",
      "nb = op.join(examples_dir, 'NBCONFIG.ipynb')\n",
      "%run $nb"
     ],
     "language": "python",
     "metadata": {},
     "outputs": [
      {
       "output_type": "stream",
       "stream": "stdout",
       "text": [
        "Populating the interactive namespace from numpy and matplotlib\n"
       ]
      },
      {
       "html": [
        "<style>\n",
        "#notebook_panel { /* main background */\n",
        "    background: #333;\n",
        "    color: #f6f6f6;\n",
        "}\n",
        "\n",
        "\n",
        "div #notebook { /* centre the content */\n",
        "    background: #FFFFF0;  /* IVORY */\n",
        "    color: #333;\n",
        "    width: 115ex;\n",
        "    margin: auto;\n",
        "    padding-left: 1em;\n",
        "    padding-right: 1em;\n",
        "    padding-top: 2ex;\n",
        "}\n",
        "\n",
        "\n",
        "div.text_cell_render {  /*Markdown cells */\n",
        "    font-family: Computer Modern Roman;\n",
        "}\n",
        "\n",
        "/* remove big margins around title */\n",
        "div.text_cell_render.border-box-sizing.rendered_html {\n",
        "    margin: 0; /*What is this */\n",
        "    padding: 0.05; /*Spacing between cells*/ \n",
        "    margin-left: 1ex;\n",
        "}\n",
        "div.cell.text_cell.border-box-sizing {\n",
        "    margin: 0;\n",
        "    padding: 0.05; \n",
        "}\n",
        "\n",
        ".rendered_html h1 {\n",
        "    margin: 0;\n",
        "    padding: 0;\n",
        "}\n",
        ".rendered_html h2 {\n",
        "    margin: 0;\n",
        "    padding: 0;\n",
        "}\n",
        ".rendered_html h3 {\n",
        "    margin: 0;\n",
        "    padding: 0;\n",
        "}\n",
        "\n",
        "/* Width of all cells */\n",
        "div.cell { /* set cell width to about 80 chars */\n",
        "    width: 55em;\n",
        "\n",
        "}\n",
        "\n",
        "/* Set font of coding cells (DONT KNOW WHY BUT NEED THIS) */\n",
        ".CodeMirror {\n",
        "    /* Preferred font is bold sawasdee, but here are backups */\n",
        "    font-family: \"Sawasdee\", \"Lucida Sans Typewriter\",\"Lucida Typewriter\", \n",
        "         \"Lucida Typewriter\", \"Courier New\", Courier, monospace;;\n",
        "    font-size: normal;\n",
        "    font-weight: 700; \n",
        "}\n",
        "\n",
        "div.cell.code_cell { /* Total code cell, in and out */\n",
        "    background: #FFFFF0;\n",
        "    border: none;\n",
        "    padding-top: 1ex;\n",
        "}\n",
        "\n",
        "div.input_area { /* box around box with code ??? */\n",
        "    border: none;\n",
        "    background: #f5f5f5;\n",
        "    border: 1px solid #fff;\n",
        "    border-radius: 10px;\n",
        "    padding-top: 0.5ex;\n",
        "    padding-bottom: 0.5ex;\n",
        "    padding-left: 0.5em;\n",
        "}\n",
        "\n",
        "div.input { /* box with code */\n",
        "}\n",
        "\n",
        "\n",
        "div.prompt { /* remove In/Out prompt */\n",
        "    display: none;\n",
        "}\n",
        "\n",
        "div.output_subarea { /* remove margin in front of output */\n",
        "    border: none;\n",
        "}\n",
        "\n",
        "div.cell.border-box-sizing.code_cell.running { \n",
        "    /* draw red dotted border around running cells */\n",
        "    border: 3px dotted #f33;\n",
        "}\n",
        "\n",
        "/* header colours and fonts */\n",
        "h1 { color: #444; }\n",
        "h2 { color: #444; font-style: oblique}\n",
        "h3 { color: #0000A0; font-weight: normal}\n",
        "h4 { color: #444; font-weight: oblique; font-size: large}\n",
        "\n",
        "\n",
        "</style>"
       ],
       "metadata": {},
       "output_type": "display_data",
       "text": [
        "<IPython.core.display.HTML at 0x518ec50>"
       ]
      }
     ],
     "prompt_number": 2
    },
    {
     "cell_type": "markdown",
     "metadata": {},
     "source": [
      "- **Directory:** ---DIRECTORY---\n",
      "\n",
      "- **Root:** ---ROOT---\n",
      "\n",
      "- **Created:** ---CREATED---\n",
      "\n",
      "- **Spectra:** <font color='---COLOR---'>**---COUNT---**</font>\n",
      "\n",
      "- **Tstart:** ---TSTART--- \n",
      "\n",
      "- **Tfinal:** ---TEND---\n",
      "\n",
      "- **$\\Delta$T:** ---TDELTA--- "
     ]
    },
    {
     "cell_type": "heading",
     "level": 3,
     "metadata": {},
     "source": [
      "DIRECTIONS:"
     ]
    },
    {
     "cell_type": "markdown",
     "metadata": {},
     "source": [
      "**In the cell below, toggle <font color='blue'>INTERACTIVE</font> to switch between matplotlib and plotly plots.  Choose your desired <font color='blue'>INTERVAL</font> unit, and I'd recommend setting  <font color='red'>SAMPLE_BY</font> if the dataset is over 200 curves.  In <font color='blue'>SLICE THE DATA</font>, set time slices and a simple description of each data subset, then run the cells below.  Enable <font color='green'>EXCLUDE SHORT</font> to ignore wavelengths under 520nm** "
     ]
    },
    {
     "cell_type": "code",
     "collapsed": false,
     "input": [
      "INTERACTIVE = True \n",
      "INTERVAL = 'm' #h, m, s, d\n",
      "SAMPLE_BY = 1 #2,4,10 etc...\n",
      "EXCLUDE_SHORT = 525.0 # Exclude wavelengths under 525nm\n",
      "\n",
      "def six_plot_inter(*args, **kwargs):\n",
      "    \"\"\" Interactive six_plot_inter \"\"\"\n",
      "    f = six_plot(*args, **kwargs)\n",
      "    if INTERACTIVE:\n",
      "        fname = op.join('---HIDDENOUT---', kwargs.pop('title', ''))\n",
      "        fname=fname.replace('/', '_').lstrip('_')\n",
      "        py.iplot_mpl(f, \n",
      "                     filename = fname,\n",
      "                     overwrite=True,\n",
      "                     resize=False, \n",
      "          #           world_readable=False,\n",
      "                      height=650,\n",
      "                      update=_pyupdate) #Overwrite some mpl-conversion settings"
     ],
     "language": "python",
     "metadata": {},
     "outputs": [],
     "prompt_number": 7
    },
    {
     "cell_type": "heading",
     "level": 3,
     "metadata": {},
     "source": [
      "FULL DATA"
     ]
    },
    {
     "cell_type": "code",
     "collapsed": false,
     "input": [
      "ts = TimeSpectra.from_csv('---CSVPATH---', index_col=0, header_datetime='%Y-%m-%d %H:%M:%S')\n",
      "ts = ts.ix[:, ::SAMPLE_BY]\n",
      "if EXCLUDE_SHORT:\n",
      "    ts = ts.nearby[EXCLUDE_SHORT::, :]\n",
      "ts.reference = 0\n",
      "ts.specunit = 'nm'\n",
      "ts = ts.as_varunit(INTERVAL)\n",
      "\n",
      "six_plot_inter(ts, title='Full Data %.2f-%.2f%s' % (ts.columns[0], ts.columns[-1], INTERVAL), striplegend=True)"
     ],
     "language": "python",
     "metadata": {},
     "outputs": [],
     "prompt_number": 4
    },
    {
     "cell_type": "heading",
     "level": 3,
     "metadata": {},
     "source": [
      "SLICE THE DATA"
     ]
    },
    {
     "cell_type": "code",
     "collapsed": false,
     "input": [
      "SLICES = ( \n",
      "#          (0,5, 'Description'),  \n",
      "#          (5,50, 'Description'), \n",
      "#          (25,80, 'Description') \n",
      "#          (81,::, 'Description') \n",
      "            )\n",
      "\n",
      "INTERACTIVE = False #Static plots from here down"
     ],
     "language": "python",
     "metadata": {},
     "outputs": [],
     "prompt_number": 1
    },
    {
     "cell_type": "markdown",
     "metadata": {},
     "source": [
      "**(Add longer description of SLICES here if desired)**"
     ]
    },
    {
     "cell_type": "code",
     "collapsed": false,
     "input": [
      "for (start, end, desc) in SLICES:\n",
      "    if start == '::':\n",
      "        start = ts.columns[0]\n",
      "    elif end == '::':\n",
      "        end = ts.columns[-1]        \n",
      "    ts_slice = ts.nearby[:, start:end]\n",
      "    ts_slice.reference = 0 #Should be automatic when slicing?\n",
      "    six_plot_inter(ts_slice, title=\"Timeslice: %.2f-%.2f%s (%s)\" % (start, end, INTERVAL, desc))"
     ],
     "language": "python",
     "metadata": {},
     "outputs": [],
     "prompt_number": 5
    },
    {
     "cell_type": "heading",
     "level": 3,
     "metadata": {},
     "source": [
      "COPY OF SPECTROMETER NOTES FROM REPORT"
     ]
    },
    {
     "cell_type": "raw",
     "metadata": {},
     "source": []
    },
    {
     "cell_type": "heading",
     "level": 3,
     "metadata": {},
     "source": [
      "GWUSPEC SCRIPT PARAMETERS"
     ]
    },
    {
     "cell_type": "markdown",
     "metadata": {},
     "source": [
      "---PARAMS---"
     ]
    },
    {
     "cell_type": "heading",
     "level": 3,
     "metadata": {},
     "source": [
      "SIX PLOT OPTIONS"
     ]
    },
    {
     "cell_type": "code",
     "collapsed": false,
     "input": [
      "help(six_plot)"
     ],
     "language": "python",
     "metadata": {},
     "outputs": [
      {
       "output_type": "stream",
       "stream": "stdout",
       "text": [
        "Help on function six_plot in module skspec.plotting.multiplots:\n",
        "\n",
        "six_plot(ts, *plotargs, **plotkwds)\n",
        "    Output a matplotlib figure with full spectra, absorbance, area and \n",
        "    stripchart.  Figure should be plotly convertable through py.iplot_mpl(fig)\n",
        "    assuming one is signed in to plotly through py.sign_in(user, apikey).\n",
        "    \n",
        "    Parameters\n",
        "    -----------\n",
        "    title : str\n",
        "        Title of the overall figure\n",
        "        \n",
        "    striplegend : bool (False)\n",
        "        Add a legend to the strip chart\n",
        "        \n",
        "    colormap : string ('jet')\n",
        "        Colormap applied to full and absorbance spectra.\n",
        "        'Jet' is applid to strip chart regardless.\n",
        "        \n",
        "    tight_layout: bool (False)\n",
        "        Calls mpl.fig.tight_layout()\n",
        "\n"
       ]
      }
     ],
     "prompt_number": 3
    },
    {
     "cell_type": "markdown",
     "metadata": {},
     "source": [
      "<hr>\n",
      "<br>\n",
      "\n",
      "\n",
      "<div style=\"float:left; \\\">\n",
      "    <img src=\"https://avatars0.githubusercontent.com/u/1972276?s=460\" \n",
      " align=left; text-align:center; style=\"float:left; margin-left: 5px; margin-top: -25px; width:150px; height:150px\" /> \n",
      "</div>\n",
      "\n",
      "<div style=\"float:left; \\\"><a href=\"https://github.com/hugadams\">\n",
      "    <img src=\"https://assets-cdn.github.com/images/modules/logos_page/GitHub-Mark.png\" \n",
      " align=left; text-align:center; style=\"float:left; margin-left: 25px; margin-top: -25px; width:75px; height:75px\" /> \n",
      "</div>\n",
      "\n",
      "\n",
      "<div style=\"float:left; \\\"><a href=\"https://twitter.com/hughesadam87\">\n",
      "    <img src=\"http://paymentmagnates.com/wp-content/uploads/2014/04/twitter-icon.png\" \n",
      " align=left; text-align:center; style=\"float:left; margin-left: 25px; margin-top: -25px; width:75px; height:75px\" /> \n",
      "</div>\n",
      "\n",
      "<div style=\"float:left; \\\"><a href=\"https://www.researchgate.net/profile/Adam_Hughes2?ev=hdr_xprf\">\n",
      "    <img src=\"http://www.txhughes.com/images/button-researchgate.png\" \n",
      " align=left; text-align:center; style=\"float:left; margin-left: -175px; margin-top: 55px; width:75px; height:75px\" /> \n",
      "</div>\n",
      "\n",
      "<div style=\"float:left; \\\"><a href=\"https://www.linkedin.com/profile/view?id=121484744&trk=nav_responsive_tab_profile_picg\">\n",
      "    <img src=\"http://smallbusinessesdoitbetter.com/wordpress/wp-content/uploads/li.png\" \n",
      " align=left; text-align:center; style=\"float:left; margin-left: -75px; margin-top: 55px; width:75px; height:75px\" /> \n",
      "</div>\n",
      "\n",
      "<div style=\"float:center; \\\"><a href=\"http://www.gwu.edu/\">\n",
      "    <img src=\"https://raw.githubusercontent.com/hugadams/pyparty/master/pyparty/data/gwu.png\" \n",
      " align=center style=\"float:center; margin-right: 30px; margin-top: -35px; width:335px; height:180px\" />\n",
      "</div>\n",
      "\n",
      "\n",
      "<h4 style=\"margin-top:0px;\"> This notebook is free for redistribution. If citing, please reference as: </h4>\n",
      "- *Hughes, A. (2012). [A Computational Framework for Plasmonic Nanobiosensing](https://www.researchgate.net/publication/236672995_A_Computational_Framework_for_Plasmonic_Nanobiosensing).  Python in Science Conference [SCIPY].* \n",
      "\n",
      "\n",
      "<h3 style=\"margin-top:30px;\"> Questions or Feedback? </h3>\n",
      "\n",
      "* hugadams@gwmail.gwu.edu \n",
      "* twitter:  <a href=\"https://twitter.com/hughesadam87\" target=\"_blank\">@hughesadam87</a>\n",
      "* <a href=\"http://www.gwu.edu/~condmat/CME/reeves.html\" target=\"_blank\">Mark Reeves Biophysics Group</a>\n",
      "\n",
      "\n",
      "\n",
      "\n",
      "<h3 style=\"margin-top:30px;\"> References: </h3>\n",
      "\n",
      "* [1] : **REF 1**\n",
      "* [2] : **REF 2**\n",
      "\n",
      "\n",
      "\n",
      "\n",
      "\n",
      "<h3 style=\"margin-top:30px;\"> Related: </h3>\n",
      "\n",
      "   * <a href=\"https://github.com/hugadams/pyparty\" target=\"_blank\">skspec: Exploratory Spectral Data Analysis</a>\n",
      "   * <a href=\"https://github.com/hugadams/pyparty\" target=\"_blank\">pyparty: Image Analysis of Particles</a>\n",
      "   * <a href=\"http://lorenabarba.com/\" target=\"_blank\">Lorena A. Barba (GWU Engineering)</a>\n",
      "   * <a href=\"http://www.youtube.com/watch?v=W7RgkHM-B60\" target=\"_blank\">xray: extended arrays for scientific datasets</a>\n",
      "\n",
      "\n",
      "\n",
      "<h3 style=\"margin-top:30px;\">Notebook styling ideas:</h3>\n",
      "\n",
      "* <a href=\"http://blog.louic.nl/?p=683\" target=\"_blank\">Louic's web blog</a>\n",
      "* <a href=\"https://plot.ly/feed\" target=\"_blank\">Plotly</a>\n",
      "* <a href=\"http://damon-is-a-geek.com/publication-ready-the-first-time-beautiful-reproducible-plots-with-matplotlib.html\" target=\"_blank\">Publication-ready the first time: Beautiful, reproducible plots with Matplotlib</a>\n",
      "\n",
      "<br>\n",
      "<hr>"
     ]
    }
   ],
   "metadata": {}
  }
 ]
}