{
 "metadata": {
  "name": "",
  "signature": "sha256:1d47d4f322b602d8146bf3401692891f32e0b80cf5af19e2ac9ab3dbbc1145f5"
 },
 "nbformat": 3,
 "nbformat_minor": 0,
 "worksheets": [
  {
   "cells": [
    {
     "cell_type": "heading",
     "level": 1,
     "metadata": {},
     "source": [
      "skspec Regression Test Suite"
     ]
    },
    {
     "cell_type": "markdown",
     "metadata": {},
     "source": [
      "This is a quick run and capture test notebook.  It runs other notebooks, including tutorials while suppressing output.  Any errors will hault the running, forming a quasi-regression test suite.  Standard unit testing is a work in progress.\n",
      "\n",
      "**Required IPython 3.0.0 dev or higher to properly use %capture magic** due to a recent [issue fix.](https://github.com/ipython/ipython/issues/5685)"
     ]
    },
    {
     "cell_type": "code",
     "collapsed": false,
     "input": [
      "from time import time as TIMENOW\n",
      "import os.path as op\n",
      "\n",
      "NBDIR = '../examples/Notebooks/'\n",
      "\n",
      "def run_nb(nb):\n",
      "    \"\"\" Run a notebook in NBDIR; adds .ipynb extension if none found. \"\"\"\n",
      "    if not op.splitext(nb)[1]:\n",
      "        nb = '%s.ipynb' % nb\n",
      "    nbpath = op.join(NBDIR, nb)\n",
      "    %run $nbpath\n",
      "    \n",
      "run_nb('NBCONFIG.ipynb')"
     ],
     "language": "python",
     "metadata": {},
     "outputs": [
      {
       "output_type": "stream",
       "stream": "stdout",
       "text": [
        "Populating the interactive namespace from numpy and matplotlib\n"
       ]
      },
      {
       "html": [
        "<style>\n",
        "#notebook_panel { /* main background */\n",
        "    background: #333;\n",
        "    color: #f6f6f6;\n",
        "}\n",
        "\n",
        "\n",
        "div #notebook { /* centre the content */\n",
        "    background: #FFFFF0;  /* IVORY */\n",
        "    color: #333;\n",
        "    width: 115ex;\n",
        "    margin: auto;\n",
        "    padding-left: 1em;\n",
        "    padding-right: 1em;\n",
        "    padding-top: 2ex;\n",
        "}\n",
        "\n",
        "\n",
        "div.text_cell_render {  /*Markdown cells */\n",
        "    font-family: Computer Modern Roman;\n",
        "}\n",
        "\n",
        "/* remove big margins around title */\n",
        "div.text_cell_render.border-box-sizing.rendered_html {\n",
        "    margin: 0; /*What is this */\n",
        "    padding: 0.05; /*Spacing between cells*/ \n",
        "    margin-left: 1ex;\n",
        "}\n",
        "div.cell.text_cell.border-box-sizing {\n",
        "    margin: 0;\n",
        "    padding: 0.05; \n",
        "}\n",
        "\n",
        ".rendered_html h1 {\n",
        "    margin: 0;\n",
        "    padding: 0;\n",
        "}\n",
        ".rendered_html h2 {\n",
        "    margin: 0;\n",
        "    padding: 0;\n",
        "}\n",
        ".rendered_html h3 {\n",
        "    margin: 0;\n",
        "    padding: 0;\n",
        "}\n",
        "\n",
        "/* Width of all cells */\n",
        "div.cell { /* set cell width to about 80 chars */\n",
        "    width: 55em;\n",
        "\n",
        "}\n",
        "\n",
        "/* Set font of coding cells (DONT KNOW WHY BUT NEED THIS) */\n",
        ".CodeMirror {\n",
        "    /* Preferred font is bold sawasdee, but here are backups */\n",
        "    font-family: \"Sawasdee\", \"Lucida Sans Typewriter\",\"Lucida Typewriter\", \n",
        "         \"Lucida Typewriter\", \"Courier New\", Courier, monospace;;\n",
        "    font-size: normal;\n",
        "    font-weight: 700; \n",
        "}\n",
        "\n",
        "div.cell.code_cell { /* Total code cell, in and out */\n",
        "    background: #FFFFF0;\n",
        "    border: none;\n",
        "    padding-top: 1ex;\n",
        "}\n",
        "\n",
        "div.input_area { /* box around box with code ??? */\n",
        "    border: none;\n",
        "    background: #f5f5f5;\n",
        "    border: 1px solid #fff;\n",
        "    border-radius: 10px;\n",
        "    padding-top: 0.5ex;\n",
        "    padding-bottom: 0.5ex;\n",
        "    padding-left: 0.5em;\n",
        "}\n",
        "\n",
        "div.input { /* box with code */\n",
        "}\n",
        "\n",
        "\n",
        "div.prompt { /* remove In/Out prompt */\n",
        "    display: none;\n",
        "}\n",
        "\n",
        "div.output_subarea { /* remove margin in front of output */\n",
        "    border: none;\n",
        "}\n",
        "\n",
        "div.cell.border-box-sizing.code_cell.running { \n",
        "    /* draw red dotted border around running cells */\n",
        "    border: 3px dotted #f33;\n",
        "}\n",
        "\n",
        "/* header colours and fonts */\n",
        "h1 { color: #444; }\n",
        "h2 { color: #444; font-style: oblique}\n",
        "h3 { color: #0000A0; font-weight: normal}\n",
        "h4 { color: #444; font-weight: oblique; font-size: large}\n",
        "\n",
        "\n",
        "</style>"
       ],
       "metadata": {},
       "output_type": "display_data",
       "text": [
        "<IPython.core.display.HTML object>"
       ]
      }
     ],
     "prompt_number": 5
    },
    {
     "cell_type": "heading",
     "level": 3,
     "metadata": {},
     "source": [
      "[Basic Tutorial P1](http://nbviewer.ipython.org/github/hugadams/skspec/blob/master/examples/Notebooks/tutorial_1.ipynb?create=1)"
     ]
    },
    {
     "cell_type": "code",
     "collapsed": false,
     "input": [
      "%%capture CAPTURED\n",
      "tnow = TIMENOW()\n",
      "NB = 'tutorial_1.ipynb'\n",
      "run_nb(NB)\n",
      "tdiff = TIMENOW() - tnow\n",
      "'COMPLETED %s: %.2f sec' % (NB, tdiff)"
     ],
     "language": "python",
     "metadata": {},
     "outputs": [
      {
       "output_type": "stream",
       "stream": "stderr",
       "text": [
        "ERROR: File `u'NBCONFIG.ipynb.py'` not found.\n",
        "WARNING:skspec.plotting.basic_plots:Recomputing area from shape (704, 100) to (1, 100)\n"
       ]
      },
      {
       "output_type": "stream",
       "stream": "stderr",
       "text": [
        "WARNING:skspec.plotting.basic_plots:areaplot() forcing transpose on AuNPs Glass (good) for plotting\n"
       ]
      },
      {
       "output_type": "stream",
       "stream": "stderr",
       "text": [
        "CRITICAL:skspec.core.timespectra:Subtracting baseline, but may not have all: elements being equal.  Fix index\n"
       ]
      },
      {
       "output_type": "stream",
       "stream": "stderr",
       "text": [
        "CRITICAL:skspec.core.timespectra:Subtracting baseline, but may not have all: elements being equal.  Fix index\n"
       ]
      },
      {
       "metadata": {},
       "output_type": "pyout",
       "prompt_number": 6,
       "text": [
        "'COMPLETED tutorial_1.ipynb: 26.65 sec'"
       ]
      }
     ],
     "prompt_number": 6
    },
    {
     "cell_type": "heading",
     "level": 3,
     "metadata": {},
     "source": [
      "[Basic Tutorial P2](http://nbviewer.ipython.org/github/hugadams/skspec/blob/master/examples/Notebooks/tutorial_2.ipynb?create=1)"
     ]
    },
    {
     "cell_type": "code",
     "collapsed": false,
     "input": [
      "%%capture CAPTURED\n",
      "tnow = TIMENOW()\n",
      "NB = 'tutorial_2.ipynb'\n",
      "run_nb(NB)\n",
      "tdiff = TIMENOW() - tnow\n",
      "'COMPLETED %s: %.2f sec' % (NB, tdiff)"
     ],
     "language": "python",
     "metadata": {},
     "outputs": [
      {
       "metadata": {},
       "output_type": "pyout",
       "prompt_number": 7,
       "text": [
        "'COMPLETED tutorial_2.ipynb: 0.51 sec'"
       ]
      },
      {
       "output_type": "stream",
       "stream": "stderr",
       "text": [
        "ERROR: File `u'NBCONFIG.ipynb.py'` not found.\n"
       ]
      }
     ],
     "prompt_number": 7
    },
    {
     "cell_type": "heading",
     "level": 3,
     "metadata": {},
     "source": [
      "[Intro to Plotting](http://nbviewer.ipython.org/github/hugadams/skspec/blob/master/examples/Notebooks/Plotting.ipynb?create=1)"
     ]
    },
    {
     "cell_type": "code",
     "collapsed": false,
     "input": [
      "%%capture CAPTURED\n",
      "tnow = TIMENOW()\n",
      "NB = 'Plotting.ipynb'\n",
      "run_nb(NB)\n",
      "tdiff = TIMENOW() - tnow\n",
      "'COMPLETED %s: %.2f sec' % (NB, tdiff)"
     ],
     "language": "python",
     "metadata": {},
     "outputs": [
      {
       "output_type": "stream",
       "stream": "stderr",
       "text": [
        "ERROR: File `u'NBCONFIG.ipynb.py'` not found.\n",
        "ERROR:skspec.core.timespectra:AuNPs Glass (good).plot() failed  {See trace below}\n",
        "\n"
       ]
      },
      {
       "ename": "LogExit",
       "evalue": "",
       "output_type": "pyerr",
       "traceback": [
        "An exception has occurred, use %tb to see the full traceback.\n",
        "\u001b[1;31mLogExit\u001b[0m\n"
       ]
      },
      {
       "output_type": "stream",
       "stream": "stderr",
       "text": [
        "To exit: use 'exit', 'quit', or Ctrl-D.\n",
        "WARNING:skspec.plotting.basic_plots:Recomputing area from shape (704, 100) to (1, 100)\n"
       ]
      },
      {
       "output_type": "stream",
       "stream": "stderr",
       "text": [
        "WARNING:skspec.plotting.basic_plots:areaplot() forcing transpose on AuNPs Glass (good) for plotting\n"
       ]
      },
      {
       "output_type": "stream",
       "stream": "stderr",
       "text": [
        "WARNING:skspec.plotting.basic_plots:Spectrum does not have subtracted baseline; could affect result in specious absorbance data.\n"
       ]
      },
      {
       "output_type": "stream",
       "stream": "stderr",
       "text": [
        "WARNING:skspec.plotting.basic_plots:Spectrum does not have subtracted baseline; could affect result in specious absorbance data.\n"
       ]
      },
      {
       "output_type": "stream",
       "stream": "stderr",
       "text": [
        "WARNING:skspec.plotting.basic_plots:Recomputing area from shape (704, 100) to (1, 100)\n"
       ]
      },
      {
       "output_type": "stream",
       "stream": "stderr",
       "text": [
        "WARNING:skspec.plotting.basic_plots:areaplot() forcing transpose on AuNPs Glass (good) for plotting\n"
       ]
      },
      {
       "output_type": "stream",
       "stream": "stderr",
       "text": [
        "WARNING:skspec.core.utilities:Returning uneven sampling for (n=5) along axis 1of size 100\n"
       ]
      },
      {
       "output_type": "stream",
       "stream": "stderr",
       "text": [
        "WARNING:skspec.core.specstack:Generating keys spec_0-spec_4\n"
       ]
      },
      {
       "output_type": "stream",
       "stream": "stderr",
       "text": [
        "WARNING:skspec.plotting.basic_plots:Spectrum does not have subtracted baseline; could affect result in specious absorbance data.\n"
       ]
      },
      {
       "output_type": "stream",
       "stream": "stderr",
       "text": [
        "WARNING:skspec.plotting.basic_plots:Spectrum does not have subtracted baseline; could affect result in specious absorbance data.\n"
       ]
      },
      {
       "output_type": "stream",
       "stream": "stderr",
       "text": [
        "WARNING:skspec.plotting.basic_plots:Spectrum does not have subtracted baseline; could affect result in specious absorbance data.\n"
       ]
      },
      {
       "output_type": "stream",
       "stream": "stderr",
       "text": [
        "WARNING:skspec.plotting.basic_plots:Spectrum does not have subtracted baseline; could affect result in specious absorbance data.\n"
       ]
      },
      {
       "metadata": {},
       "output_type": "pyout",
       "prompt_number": 8,
       "text": [
        "'COMPLETED Plotting.ipynb: 35.39 sec'"
       ]
      }
     ],
     "prompt_number": 8
    },
    {
     "cell_type": "heading",
     "level": 3,
     "metadata": {},
     "source": [
      "[Intro to 2D and 3D plots](http://nbviewer.ipython.org/github/hugadams/skspec/blob/master/examples/Notebooks/plotting_2d3d.ipynb?create=1)"
     ]
    },
    {
     "cell_type": "code",
     "collapsed": false,
     "input": [
      "%%capture CAPTURED\n",
      "tnow = TIMENOW()\n",
      "NB = 'plotting_2d3d.ipynb'\n",
      "run_nb(NB)\n",
      "tdiff = TIMENOW() - tnow\n",
      "'COMPLETED %s: %.2f sec' % (NB, tdiff)"
     ],
     "language": "python",
     "metadata": {},
     "outputs": [
      {
       "metadata": {},
       "output_type": "pyout",
       "prompt_number": 9,
       "text": [
        "'COMPLETED plotting_2d3d.ipynb: 0.56 sec'"
       ]
      },
      {
       "output_type": "stream",
       "stream": "stderr",
       "text": [
        "ERROR: File `u'NBCONFIG.ipynb.py'` not found.\n"
       ]
      }
     ],
     "prompt_number": 9
    },
    {
     "cell_type": "heading",
     "level": 3,
     "metadata": {},
     "source": [
      "[Interactive Plotting with Plotly](http://nbviewer.ipython.org/github/hugadams/skspec/blob/master/examples/Notebooks/plotly.ipynb?create=1)"
     ]
    },
    {
     "cell_type": "code",
     "collapsed": false,
     "input": [
      "%%capture CAPTURED\n",
      "tnow = TIMENOW()\n",
      "NB = 'plotly.ipynb'\n",
      "run_nb(NB)\n",
      "tdiff = TIMENOW() - tnow\n",
      "'COMPLETED %s: %.2f sec' % (NB, tdiff)"
     ],
     "language": "python",
     "metadata": {},
     "outputs": [
      {
       "ename": "AttributeError",
       "evalue": "Could not find attribute \"specunit\" in TimeSpectra or its underlying DataFrame",
       "output_type": "pyerr",
       "traceback": [
        "\u001b[1;31m---------------------------------------------------------------------------\u001b[0m",
        "\u001b[1;31mAttributeError\u001b[0m                            Traceback (most recent call last)",
        "\u001b[1;32m<ipython-input-11-9978730c310d>\u001b[0m in \u001b[0;36m<module>\u001b[1;34m()\u001b[0m\n\u001b[0;32m      4\u001b[0m               \u001b[0mcolor\u001b[0m\u001b[1;33m=\u001b[0m\u001b[1;34m'purple'\u001b[0m\u001b[1;33m,\u001b[0m\u001b[1;33m\u001b[0m\u001b[0m\n\u001b[0;32m      5\u001b[0m               \u001b[0mpoints\u001b[0m\u001b[1;33m=\u001b[0m\u001b[0mTrue\u001b[0m\u001b[1;33m,\u001b[0m\u001b[1;33m\u001b[0m\u001b[0m\n\u001b[1;32m----> 6\u001b[1;33m               \u001b[0mlayout\u001b[0m\u001b[1;33m=\u001b[0m\u001b[1;33m{\u001b[0m\u001b[1;34m'title'\u001b[0m\u001b[1;33m:\u001b[0m\u001b[1;34m'Area vs. Time'\u001b[0m\u001b[1;33m}\u001b[0m\u001b[1;33m\u001b[0m\u001b[0m\n\u001b[0m\u001b[0;32m      7\u001b[0m               )\n\u001b[0;32m      8\u001b[0m \u001b[0mpy\u001b[0m\u001b[1;33m.\u001b[0m\u001b[0miplot\u001b[0m\u001b[1;33m(\u001b[0m\u001b[0mfig\u001b[0m\u001b[1;33m,\u001b[0m \u001b[0mresize\u001b[0m\u001b[1;33m=\u001b[0m\u001b[0mFalse\u001b[0m\u001b[1;33m)\u001b[0m\u001b[1;33m\u001b[0m\u001b[0m\n",
        "\u001b[1;32m/home/glue/Desktop/skspec/skspec/skspec/plotting/plotlywrapper.py\u001b[0m in \u001b[0;36mply_fig\u001b[1;34m(ts, points, color, **kwds)\u001b[0m\n\u001b[0;32m    101\u001b[0m     \u001b[0mdata\u001b[0m \u001b[1;33m=\u001b[0m \u001b[0mgrobs\u001b[0m\u001b[1;33m.\u001b[0m\u001b[0mData\u001b[0m\u001b[1;33m(\u001b[0m\u001b[1;33m)\u001b[0m\u001b[1;33m\u001b[0m\u001b[0m\n\u001b[0;32m    102\u001b[0m     \u001b[0mlayoutkwds\u001b[0m \u001b[1;33m=\u001b[0m \u001b[0mkwds\u001b[0m\u001b[1;33m.\u001b[0m\u001b[0mpop\u001b[0m\u001b[1;33m(\u001b[0m\u001b[1;34m'layout'\u001b[0m\u001b[1;33m,\u001b[0m \u001b[1;33m{\u001b[0m\u001b[1;33m}\u001b[0m\u001b[1;33m)\u001b[0m\u001b[1;33m\u001b[0m\u001b[0m\n\u001b[1;32m--> 103\u001b[1;33m     \u001b[0mlout\u001b[0m \u001b[1;33m=\u001b[0m \u001b[0mlayout\u001b[0m\u001b[1;33m(\u001b[0m\u001b[0mts\u001b[0m\u001b[1;33m,\u001b[0m \u001b[1;33m**\u001b[0m\u001b[0mlayoutkwds\u001b[0m\u001b[1;33m)\u001b[0m\u001b[1;33m\u001b[0m\u001b[0m\n\u001b[0m\u001b[0;32m    104\u001b[0m \u001b[1;33m\u001b[0m\u001b[0m\n\u001b[0;32m    105\u001b[0m     \u001b[1;31m# List of colors, either single color or color map\u001b[0m\u001b[1;33m\u001b[0m\u001b[1;33m\u001b[0m\u001b[0m\n",
        "\u001b[1;32m/home/glue/Desktop/skspec/skspec/skspec/plotting/plotlywrapper.py\u001b[0m in \u001b[0;36mlayout\u001b[1;34m(ts, *args, **kwargs)\u001b[0m\n\u001b[0;32m     58\u001b[0m \u001b[1;33m\u001b[0m\u001b[0m\n\u001b[0;32m     59\u001b[0m     \u001b[1;31m# Map x,y title into grobs.XAxis and grobs.YAxis\u001b[0m\u001b[1;33m\u001b[0m\u001b[1;33m\u001b[0m\u001b[0m\n\u001b[1;32m---> 60\u001b[1;33m     \u001b[0mxtitle\u001b[0m \u001b[1;33m=\u001b[0m \u001b[0m_parsenull\u001b[0m\u001b[1;33m(\u001b[0m\u001b[0mkwargs\u001b[0m\u001b[1;33m.\u001b[0m\u001b[0mpop\u001b[0m\u001b[1;33m(\u001b[0m\u001b[1;34m'xtitle'\u001b[0m\u001b[1;33m,\u001b[0m \u001b[0mts\u001b[0m\u001b[1;33m.\u001b[0m\u001b[0mspecunit\u001b[0m\u001b[1;33m)\u001b[0m\u001b[1;33m)\u001b[0m\u001b[1;33m\u001b[0m\u001b[0m\n\u001b[0m\u001b[0;32m     61\u001b[0m     \u001b[0mytitle\u001b[0m \u001b[1;33m=\u001b[0m \u001b[0m_parsenull\u001b[0m\u001b[1;33m(\u001b[0m\u001b[0mkwargs\u001b[0m\u001b[1;33m.\u001b[0m\u001b[0mpop\u001b[0m\u001b[1;33m(\u001b[0m\u001b[1;34m'ytitle'\u001b[0m\u001b[1;33m,\u001b[0m \u001b[0mts\u001b[0m\u001b[1;33m.\u001b[0m\u001b[0miunit\u001b[0m\u001b[1;33m)\u001b[0m\u001b[1;33m)\u001b[0m\u001b[1;33m\u001b[0m\u001b[0m\n\u001b[0;32m     62\u001b[0m \u001b[1;33m\u001b[0m\u001b[0m\n",
        "\u001b[1;32m/home/glue/Desktop/skspec/skspec/skspec/pandas_utils/metadframe.pyc\u001b[0m in \u001b[0;36m__getattr__\u001b[1;34m(self, attr, *fcnargs, **fcnkwargs)\u001b[0m\n\u001b[0;32m    106\u001b[0m             \u001b[0mrefout\u001b[0m\u001b[1;33m=\u001b[0m\u001b[0mgetattr\u001b[0m\u001b[1;33m(\u001b[0m\u001b[0mself\u001b[0m\u001b[1;33m.\u001b[0m\u001b[0m_df\u001b[0m\u001b[1;33m,\u001b[0m \u001b[0mattr\u001b[0m\u001b[1;33m)\u001b[0m\u001b[1;33m\u001b[0m\u001b[0m\n\u001b[0;32m    107\u001b[0m         \u001b[1;32mexcept\u001b[0m \u001b[0mAttributeError\u001b[0m\u001b[1;33m:\u001b[0m\u001b[1;33m\u001b[0m\u001b[0m\n\u001b[1;32m--> 108\u001b[1;33m             \u001b[1;32mraise\u001b[0m \u001b[0mAttributeError\u001b[0m\u001b[1;33m(\u001b[0m\u001b[1;34m'Could not find attribute \"%s\" in %s or its underlying DataFrame'\u001b[0m\u001b[1;33m%\u001b[0m\u001b[1;33m(\u001b[0m\u001b[0mattr\u001b[0m\u001b[1;33m,\u001b[0m \u001b[0mself\u001b[0m\u001b[1;33m.\u001b[0m\u001b[0m__class__\u001b[0m\u001b[1;33m.\u001b[0m\u001b[0m__name__\u001b[0m\u001b[1;33m)\u001b[0m\u001b[1;33m)\u001b[0m\u001b[1;33m\u001b[0m\u001b[0m\n\u001b[0m\u001b[0;32m    109\u001b[0m \u001b[1;33m\u001b[0m\u001b[0m\n\u001b[0;32m    110\u001b[0m         \u001b[1;32mif\u001b[0m \u001b[1;32mnot\u001b[0m \u001b[0misinstance\u001b[0m\u001b[1;33m(\u001b[0m\u001b[0mrefout\u001b[0m\u001b[1;33m,\u001b[0m \u001b[0mMethodType\u001b[0m\u001b[1;33m)\u001b[0m\u001b[1;33m:\u001b[0m\u001b[1;33m\u001b[0m\u001b[0m\n",
        "\u001b[1;31mAttributeError\u001b[0m: Could not find attribute \"specunit\" in TimeSpectra or its underlying DataFrame"
       ]
      },
      {
       "output_type": "stream",
       "stream": "stderr",
       "text": [
        "ERROR: File `u'NBCONFIG.ipynb.py'` not found.\n",
        "CRITICAL:skspec.core.timespectra:Subtracting baseline, but may not have all: elements being equal.  Fix index\n"
       ]
      },
      {
       "ename": "ImportError",
       "evalue": "cannot import name plot3d",
       "output_type": "pyerr",
       "traceback": [
        "\u001b[1;31m---------------------------------------------------------------------------\u001b[0m",
        "\u001b[1;31mImportError\u001b[0m                               Traceback (most recent call last)",
        "\u001b[1;32m<ipython-input-11-91dd6198be6b>\u001b[0m in \u001b[0;36m<module>\u001b[1;34m()\u001b[0m\n\u001b[1;32m----> 1\u001b[1;33m \u001b[1;32mfrom\u001b[0m \u001b[0mskspec\u001b[0m\u001b[1;33m.\u001b[0m\u001b[0mplotting\u001b[0m \u001b[1;32mimport\u001b[0m \u001b[0mplot3d\u001b[0m\u001b[1;33m\u001b[0m\u001b[0m\n\u001b[0m\u001b[0;32m      2\u001b[0m \u001b[1;33m\u001b[0m\u001b[0m\n\u001b[0;32m      3\u001b[0m  \u001b[1;31m#NEEDS TO RETURN FIG/AX ETC... (rename colormap, \"WAVELENGTH\" other axis labels, CHOOSE BETTER DEFAULT TIMES...)\u001b[0m\u001b[1;33m\u001b[0m\u001b[1;33m\u001b[0m\u001b[0m\n\u001b[0;32m      4\u001b[0m \u001b[0mplot3d\u001b[0m\u001b[1;33m(\u001b[0m\u001b[0mabsorb\u001b[0m\u001b[1;33m,\u001b[0m \u001b[0mcmap\u001b[0m\u001b[1;33m=\u001b[0m\u001b[1;34m'bone'\u001b[0m\u001b[1;33m,\u001b[0m \u001b[0malpha\u001b[0m\u001b[1;33m=\u001b[0m\u001b[1;36m.5\u001b[0m\u001b[1;33m,\u001b[0m \u001b[0melev\u001b[0m\u001b[1;33m=\u001b[0m\u001b[1;36m25\u001b[0m\u001b[1;33m,\u001b[0m \u001b[0mazim\u001b[0m\u001b[1;33m=\u001b[0m\u001b[1;36m15\u001b[0m\u001b[1;33m)\u001b[0m\u001b[1;33m;\u001b[0m\u001b[1;33m\u001b[0m\u001b[0m\n",
        "\u001b[1;31mImportError\u001b[0m: cannot import name plot3d"
       ]
      },
      {
       "metadata": {},
       "output_type": "pyout",
       "prompt_number": 11,
       "text": [
        "'COMPLETED plotly.ipynb: 48.96 sec'"
       ]
      }
     ],
     "prompt_number": 11
    },
    {
     "cell_type": "heading",
     "level": 3,
     "metadata": {},
     "source": [
      "[Prepackaged Datasets](http://nbviewer.ipython.org/github/hugadams/skspec/blob/master/examples/Notebooks/testdata.ipynb?create=1)"
     ]
    },
    {
     "cell_type": "code",
     "collapsed": false,
     "input": [
      "%%capture CAPTURED\n",
      "tnow = TIMENOW()\n",
      "NB = 'testdata.ipynb'\n",
      "run_nb(NB)\n",
      "tdiff = TIMENOW() - tnow\n",
      "'COMPLETED %s: %.2f sec' % (NB, tdiff)"
     ],
     "language": "python",
     "metadata": {},
     "outputs": []
    },
    {
     "cell_type": "heading",
     "level": 3,
     "metadata": {},
     "source": [
      "[SpecStack: Multiple TimeSpectra Operations](http://nbviewer.ipython.org/github/hugadams/skspec/blob/master/examples/Notebooks/specstack.ipynb?create=1)"
     ]
    },
    {
     "cell_type": "code",
     "collapsed": false,
     "input": [
      "%%capture CAPTURED\n",
      "tnow = TIMENOW()\n",
      "NB = 'specstack.ipynb'\n",
      "run_nb(NB)\n",
      "tdiff = TIMENOW() - tnow\n",
      "'COMPLETED %s: %.2f sec' % (NB, tdiff)"
     ],
     "language": "python",
     "metadata": {},
     "outputs": []
    },
    {
     "cell_type": "heading",
     "level": 3,
     "metadata": {},
     "source": [
      "[Unit Systems and Custom Index Objects](http://nbviewer.ipython.org/github/hugadams/skspec/blob/master/examples/Notebooks/units.ipynb)"
     ]
    },
    {
     "cell_type": "code",
     "collapsed": false,
     "input": [
      "%%capture CAPTURED\n",
      "tnow = TIMENOW()\n",
      "NB = 'units.ipynb'\n",
      "run_nb(NB)\n",
      "tdiff = TIMENOW() - tnow\n",
      "'COMPLETED %s: %.2f sec' % (NB, tdiff)"
     ],
     "language": "python",
     "metadata": {},
     "outputs": []
    },
    {
     "cell_type": "heading",
     "level": 1,
     "metadata": {},
     "source": [
      "More Unit System Conversion tests:"
     ]
    },
    {
     "cell_type": "markdown",
     "metadata": {},
     "source": [
      "Right now, these need to be observed by eye.  Eventually, refactor into nosetest suite."
     ]
    },
    {
     "cell_type": "code",
     "collapsed": false,
     "input": [
      "from skspec.data import aunps_glass\n",
      "ts= aunps_glass()\n",
      "cols = ts.columns[0:5]\n",
      "\n",
      "#REPLACE WITH AS INTERVAL AND STUFF\n",
      "\n",
      "print cols.datetimeindex, '\\n\\n'\n",
      "print ts.columns.datetimeindex, '\\n\\n'\n",
      "print cols.convert('m'), '\\n\\n'\n",
      "print cols.convert('m').convert('s'), '\\n\\n'\n",
      "print cols.convert('m').convert('s').datetimeindex, '\\n\\n'\n",
      "print cols.convert(None), '\\n\\n'\n",
      "print cols.convert(None).convert('dti'), '\\n\\n'\n",
      "print cols.convert('m').convert('dti'), '\\n\\n'\n",
      "#del cols.datetimeindex, '\\n\\n'\n",
      "#print cols, '\\n\\n'"
     ],
     "language": "python",
     "metadata": {},
     "outputs": [
      {
       "output_type": "stream",
       "stream": "stdout",
       "text": [
        "<class 'pandas.tseries.index.DatetimeIndex'>\n",
        "[2014-05-22 15:38:23, ..., 2014-05-22 15:38:37]\n",
        "Length: 5, Freq: None, Timezone: None \n",
        "\n",
        "\n",
        "<class 'pandas.tseries.index.DatetimeIndex'>\n",
        "[2014-05-22 15:38:23, ..., 2014-05-22 15:44:25]\n",
        "Length: 100, Freq: None, Timezone: None \n",
        "\n",
        "\n",
        "TimeIndex[m]([0.0, 0.05, 0.116666666667, 0.183333333333, 0.233333333333], dtype='float64') \n",
        "\n",
        "\n",
        "TimeIndex[s]([0.0, 3.0, 7.0, 11.0, 14.0], dtype='float64') \n",
        "\n",
        "\n",
        "<class 'pandas.tseries.index.DatetimeIndex'>\n",
        "[2014-05-22 15:38:23, ..., 2014-05-22 15:38:37]\n",
        "Length: 5, Freq: None, Timezone: None \n",
        "\n",
        "\n",
        "TimeIndex[None]([2014-05-22 15:38:23, 2014-05-22 15:38:26, 2014-05-22 15:38:30, 2014-05-22 15:38:34, 2014-05-22 15:38:37], dtype='object') \n",
        "\n",
        "\n",
        "TimeIndex[dti]([2014-05-22 15:38:23, 2014-05-22 15:38:26, 2014-05-22 15:38:30, 2014-05-22 15:38:34, 2014-05-22 15:38:37], dtype='object') \n",
        "\n",
        "\n",
        "TimeIndex[dti]([2014-05-22 15:38:23, 2014-05-22 15:38:26, 2014-05-22 15:38:30, 2014-05-22 15:38:34, 2014-05-22 15:38:37], dtype='object') \n",
        "\n",
        "\n"
       ]
      }
     ],
     "prompt_number": 10
    }
   ],
   "metadata": {}
  }
 ]
}